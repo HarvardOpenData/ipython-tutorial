{
 "cells": [
  {
   "cell_type": "code",
   "execution_count": 1,
   "metadata": {},
   "outputs": [],
   "source": [
    "# Welcome to the iPython notebook tutorial!"
   ]
  },
  {
   "cell_type": "code",
   "execution_count": 2,
   "metadata": {},
   "outputs": [
    {
     "data": {
      "text/plain": [
       "8"
      ]
     },
     "execution_count": 2,
     "metadata": {},
     "output_type": "execute_result"
    }
   ],
   "source": [
    "# You can write some Python code here and run it with Shift-Enter.\n",
    "# In iPython, the result of your last line of code gets printed out!\n",
    "\n",
    "# Here, we define two variables, x and y, and assign values to them.\n",
    "x = 5\n",
    "y = 3\n",
    "x + y"
   ]
  },
  {
   "cell_type": "code",
   "execution_count": 3,
   "metadata": {},
   "outputs": [
    {
     "data": {
      "text/plain": [
       "15"
      ]
     },
     "execution_count": 3,
     "metadata": {},
     "output_type": "execute_result"
    }
   ],
   "source": [
    "# iPython remembers the variables you've used before.\n",
    "x * y"
   ]
  },
  {
   "cell_type": "code",
   "execution_count": null,
   "metadata": {},
   "outputs": [],
   "source": [
    "# We just gave x and y integer values, but integers are only one of many data types in Python.\n",
    "# We can also use booleans (True/False), strings (words and characters), and more.\n",
    "\n",
    "z = True\n",
    "animal = \"dog\""
   ]
  },
  {
   "cell_type": "code",
   "execution_count": 4,
   "metadata": {},
   "outputs": [
    {
     "data": {
      "text/plain": [
       "144"
      ]
     },
     "execution_count": 4,
     "metadata": {},
     "output_type": "execute_result"
    }
   ],
   "source": [
    "# In addition to variables, you can also define functions!\n",
    "# Functions take an input, perform operations on that input, and return an output.\n",
    "\n",
    "def square(x):\n",
    "    return x * x\n",
    "\n",
    "# You can call a function with its name and the specific input you want to pass in.\n",
    "square(12)"
   ]
  },
  {
   "cell_type": "code",
   "execution_count": 1,
   "metadata": {},
   "outputs": [
    {
     "data": {
      "text/plain": [
       "27"
      ]
     },
     "execution_count": 1,
     "metadata": {},
     "output_type": "execute_result"
    }
   ],
   "source": [
    "# You can go back and edit a previous line, too.\n",
    "# Can you turn the previous function `square` into `cube`?\n",
    "\n",
    "def cube(x):\n",
    "    return x ** 3\n",
    "\n",
    "cube(3)"
   ]
  },
  {
   "cell_type": "code",
   "execution_count": 1,
   "metadata": {},
   "outputs": [],
   "source": [
    "# Python also provides some built-in data structures to make it easier to store information.\n",
    "# One simple example of a built-in data structure is a list.\n",
    "\n",
    "empty = []\n",
    "example = [4, 7, 1, 2, 3]\n",
    "\n",
    "# In Python, the elements of a list don't all have to be of the same data type.\n",
    "\n",
    "example_2 = [3, \"cat\", False, None]\n",
    "\n",
    "# However, we usually make sure elements are of the same type anyway."
   ]
  },
  {
   "cell_type": "code",
   "execution_count": null,
   "metadata": {},
   "outputs": [],
   "source": [
    "# One of the most basic types of data you can get about a list is its length.\n",
    "# For this, we'll use Python's built-in `len` function:\n",
    "\n",
    "len(example)"
   ]
  },
  {
   "cell_type": "code",
   "execution_count": 6,
   "metadata": {},
   "outputs": [
    {
     "name": "stdout",
     "output_type": "stream",
     "text": [
      "[1, 2, 3, 4, 7]\n",
      "[7, 4, 3, 2, 1]\n"
     ]
    }
   ],
   "source": [
    "# It's often useful to be able to sort your data.\n",
    "# How would you sort the `example` list above in increasing order? Decreasing order?\n",
    "\n",
    "# Python has built-in sorting functions, sou might find this documentation helpful:\n",
    "# https://developers.google.com/edu/python/sorting\n",
    "\n",
    "sorted_increasing = sorted(example)\n",
    "sorted_decreasing = sorted(example, reverse=True)\n",
    "\n",
    "print(sorted_increasing)\n",
    "print(sorted_decreasing)"
   ]
  },
  {
   "cell_type": "code",
   "execution_count": 7,
   "metadata": {},
   "outputs": [
    {
     "data": {
      "text/plain": [
       "[1, 2, 3, 4, 7]"
      ]
     },
     "execution_count": 7,
     "metadata": {},
     "output_type": "execute_result"
    }
   ],
   "source": [
    "# To sort the list in place instead of making a copy, just use the function LISTNAME.sort():\n",
    "\n",
    "example.sort()\n",
    "example"
   ]
  },
  {
   "cell_type": "code",
   "execution_count": null,
   "metadata": {},
   "outputs": [],
   "source": [
    "# To retrieve a single element of a list, we can access it by index.\n",
    "# In Python (and programming languages in general), things are zero-indexed, which means that the first element has index 0.\n",
    "\n",
    "example[0]"
   ]
  },
  {
   "cell_type": "code",
   "execution_count": null,
   "metadata": {},
   "outputs": [],
   "source": [
    "# If we want a sublist (multiple consecutive elements), we use slice notation.\n",
    "# The command below gives us the third and fourth elements of our example list.\n",
    "\n",
    "example[2:4]\n",
    "\n",
    "# Can you print out the second through fifth elements of our list?"
   ]
  },
  {
   "cell_type": "code",
   "execution_count": null,
   "metadata": {},
   "outputs": [],
   "source": [
    "# Putting concepts together:\n",
    "# Can you create and test a function that returns the three largest elements from an input list of integers?\n",
    "\n",
    "def three_largest(lst):\n",
    "    return sorted(lst, reverse=True)[:3]"
   ]
  },
  {
   "cell_type": "code",
   "execution_count": null,
   "metadata": {},
   "outputs": [],
   "source": [
    "# Sometimes, we want to iterate through a list's elements and do some operation on each of them.\n",
    "# For loops are useful for this.\n",
    "\n",
    "quad_houses = [\"Cabot\", \"Currier\", \"Pforzheimer\"]\n",
    "\n",
    "for i in range(len(quad_houses)):\n",
    "    print(quad_houses[i])\n",
    "    \n",
    "# Another, more succint, way of doing this:\n",
    "\n",
    "for house in quad_houses:\n",
    "    print(house)"
   ]
  },
  {
   "cell_type": "code",
   "execution_count": null,
   "metadata": {},
   "outputs": [],
   "source": [
    "# Sometimes, we only want to perform an operation if the input satisfies some type of condition.\n",
    "# To do this, we use if-else statements.\n",
    "\n",
    "def is_large(x):\n",
    "    if x > 5:\n",
    "        print(\"large\")\n",
    "    else:\n",
    "        print(\"small\")\n",
    "        \n",
    "# Can you define another function that makes use of an if statement?"
   ]
  },
  {
   "cell_type": "code",
   "execution_count": null,
   "metadata": {},
   "outputs": [],
   "source": [
    "# Introduce dictionaries"
   ]
  },
  {
   "cell_type": "code",
   "execution_count": null,
   "metadata": {},
   "outputs": [],
   "source": [
    "# Spoof some data in dict format, like {CONCENTRATION_NAME: ENROLLMENT} and ask them to find the 5 largest concentrations"
   ]
  }
 ],
 "metadata": {
  "kernelspec": {
   "display_name": "Python 3",
   "language": "python",
   "name": "python3"
  },
  "language_info": {
   "codemirror_mode": {
    "name": "ipython",
    "version": 2
   },
   "file_extension": ".py",
   "mimetype": "text/x-python",
   "name": "python",
   "nbconvert_exporter": "python",
   "pygments_lexer": "ipython2",
   "version": "2.7.12"
  }
 },
 "nbformat": 4,
 "nbformat_minor": 2
}
