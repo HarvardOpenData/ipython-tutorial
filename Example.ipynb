{
 "cells": [
  {
   "cell_type": "code",
   "execution_count": 13,
   "metadata": {
    "collapsed": true
   },
   "outputs": [],
   "source": [
    "# Welcome to the iPython notebook tutorial!"
   ]
  },
  {
   "cell_type": "code",
   "execution_count": 14,
   "metadata": {},
   "outputs": [
    {
     "data": {
      "text/plain": [
       "8"
      ]
     },
     "execution_count": 14,
     "metadata": {},
     "output_type": "execute_result"
    }
   ],
   "source": [
    "# You can write some Python code here and run it with Shift-Enter.\n",
    "# The result of your last line of code gets printed out,\n",
    "# so no more need for `print` statements!\n",
    "\n",
    "x = 5\n",
    "y = 3\n",
    "x + y"
   ]
  },
  {
   "cell_type": "code",
   "execution_count": 15,
   "metadata": {},
   "outputs": [
    {
     "data": {
      "text/plain": [
       "15"
      ]
     },
     "execution_count": 15,
     "metadata": {},
     "output_type": "execute_result"
    }
   ],
   "source": [
    "# iPython remembers the variables you've used before.\n",
    "x * y"
   ]
  },
  {
   "cell_type": "code",
   "execution_count": 16,
   "metadata": {},
   "outputs": [
    {
     "data": {
      "text/plain": [
       "144"
      ]
     },
     "execution_count": 16,
     "metadata": {},
     "output_type": "execute_result"
    }
   ],
   "source": [
    "# You can make functions too!\n",
    "\n",
    "def square(x):\n",
    "    return x * x\n",
    "\n",
    "square(12)\n"
   ]
  },
  {
   "cell_type": "code",
   "execution_count": 17,
   "metadata": {
    "collapsed": true
   },
   "outputs": [],
   "source": [
    "# You can go back and edit a previous line, too.\n",
    "# Can you turn the previous function `square` into `cube`?"
   ]
  },
  {
   "cell_type": "code",
   "execution_count": 18,
   "metadata": {
    "collapsed": true
   },
   "outputs": [],
   "source": [
    "# Let's play around with a real dataset."
   ]
  },
  {
   "cell_type": "code",
   "execution_count": 19,
   "metadata": {
    "collapsed": true
   },
   "outputs": [],
   "source": [
    "# It's a best practice to import all your required packages up here.\n",
    "\n",
    "import csv"
   ]
  },
  {
   "cell_type": "code",
   "execution_count": 20,
   "metadata": {},
   "outputs": [
    {
     "name": "stdout",
     "output_type": "stream",
     "text": [
      "African and African American Studies\n",
      "Anthropology\n",
      "Applied Mathematics\n",
      "Astrophysics\n",
      "Biochemical Sciences\n",
      "Biomedical Engineering\n",
      "Chemical and Physical Biology\n",
      "Chemistry\n",
      "Chemistry and Physics\n",
      "Classics\n",
      "Comparative Literature\n",
      "Comparative Study of Religion\n",
      "Computer Science\n",
      "Earth and Planetary Sciences\n",
      "East Asian Studies\n",
      "Economics\n",
      "Electrical Engineering\n",
      "Engineering Sciences\n",
      "English\n",
      "Environmental Science and Public Policy\n",
      "Folklore and Mythology\n",
      "Germanic Languages and Literatures\n",
      "Government\n",
      "History\n",
      "History and Literature\n",
      "History and Science\n",
      "History of Art and Architecture\n",
      "Human Developmental and Regenerative Biology\n",
      "Human Evolutionary Biology\n",
      "Integrative Biology\n",
      "Linguistics\n",
      "Mathematics\n",
      "Mechanical Engineering\n",
      "Molecular and Cellular Biology\n",
      "Music\n",
      "Near Eastern Languages and Civilizations\n",
      "Neurobiology\n",
      "Organismic and Evolutionary Biology\n",
      "Philosophy\n",
      "Physics\n",
      "Psychology\n",
      "Romance Languages and Literatures\n",
      "Sanskrit and Indian Studies\n",
      "Slavic Languages and Literatures\n",
      "Social Studies\n",
      "Sociology\n",
      "South Asian Studies\n",
      "Statistics\n",
      "Studies of Women, Gender, and Sexuality\n",
      "Visual and Environmental Studies\n"
     ]
    }
   ],
   "source": [
    "# This is a handy recipe for turning a CSV into a \n",
    "# list of dictionaries - which are like structs in C\n",
    "# or objects in JavaScript, if you're familiar with those.\n",
    "\n",
    "concentration_data = []\n",
    "\n",
    "with open('concentration-enrollment.csv') as csvfile:\n",
    "    reader = csv.DictReader(csvfile)\n",
    "    for row in reader:\n",
    "        print(row['concentration'])\n",
    "        # You can't just do `concentration_data = reader`\n",
    "        # because the `reader` object disappears once the file\n",
    "        # is read. Instead, you want to copy each row into\n",
    "        # a different list.\n",
    "        concentration_data.append(row)"
   ]
  },
  {
   "cell_type": "code",
   "execution_count": 21,
   "metadata": {},
   "outputs": [
    {
     "data": {
      "text/plain": [
       "[{'2010-11': '6',\n",
       "  '2011-12': '7',\n",
       "  '2012-13': '11',\n",
       "  '2013-14': '10',\n",
       "  '2014-15': '10',\n",
       "  'concentration': 'African and African American Studies'},\n",
       " {'2010-11': '39',\n",
       "  '2011-12': '34',\n",
       "  '2012-13': '29',\n",
       "  '2013-14': '15',\n",
       "  '2014-15': '27',\n",
       "  'concentration': 'Anthropology'},\n",
       " {'2010-11': '59',\n",
       "  '2011-12': '49',\n",
       "  '2012-13': '66',\n",
       "  '2013-14': '65',\n",
       "  '2014-15': '91',\n",
       "  'concentration': 'Applied Mathematics'},\n",
       " {'2010-11': '6',\n",
       "  '2011-12': '14',\n",
       "  '2012-13': '3',\n",
       "  '2013-14': '8',\n",
       "  '2014-15': '11',\n",
       "  'concentration': 'Astrophysics'},\n",
       " {'2010-11': '2',\n",
       "  '2011-12': '1',\n",
       "  '2012-13': '2',\n",
       "  '2013-14': '0',\n",
       "  '2014-15': '0',\n",
       "  'concentration': 'Biochemical Sciences'},\n",
       " {'2010-11': '4',\n",
       "  '2011-12': '11',\n",
       "  '2012-13': '11',\n",
       "  '2013-14': '17',\n",
       "  '2014-15': '15',\n",
       "  'concentration': 'Biomedical Engineering'},\n",
       " {'2010-11': '15',\n",
       "  '2011-12': '16',\n",
       "  '2012-13': '15',\n",
       "  '2013-14': '14',\n",
       "  '2014-15': '18',\n",
       "  'concentration': 'Chemical and Physical Biology'},\n",
       " {'2010-11': '34',\n",
       "  '2011-12': '21',\n",
       "  '2012-13': '25',\n",
       "  '2013-14': '32',\n",
       "  '2014-15': '35',\n",
       "  'concentration': 'Chemistry'},\n",
       " {'2010-11': '11',\n",
       "  '2011-12': '16',\n",
       "  '2012-13': '14',\n",
       "  '2013-14': '18',\n",
       "  '2014-15': '7',\n",
       "  'concentration': 'Chemistry and Physics'},\n",
       " {'2010-11': '17',\n",
       "  '2011-12': '18',\n",
       "  '2012-13': '9',\n",
       "  '2013-14': '12',\n",
       "  '2014-15': '20',\n",
       "  'concentration': 'Classics'},\n",
       " {'2010-11': '15',\n",
       "  '2011-12': '9',\n",
       "  '2012-13': '19',\n",
       "  '2013-14': '13',\n",
       "  '2014-15': '10',\n",
       "  'concentration': 'Comparative Literature'},\n",
       " {'2010-11': '14',\n",
       "  '2011-12': '9',\n",
       "  '2012-13': '12',\n",
       "  '2013-14': '8',\n",
       "  '2014-15': '7',\n",
       "  'concentration': 'Comparative Study of Religion'},\n",
       " {'2010-11': '36',\n",
       "  '2011-12': '36',\n",
       "  '2012-13': '52',\n",
       "  '2013-14': '89',\n",
       "  '2014-15': '98',\n",
       "  'concentration': 'Computer Science'},\n",
       " {'2010-11': '5',\n",
       "  '2011-12': '10',\n",
       "  '2012-13': '9',\n",
       "  '2013-14': '7',\n",
       "  '2014-15': '7',\n",
       "  'concentration': 'Earth and Planetary Sciences'},\n",
       " {'2010-11': '18',\n",
       "  '2011-12': '14',\n",
       "  '2012-13': '21',\n",
       "  '2013-14': '23',\n",
       "  '2014-15': '25',\n",
       "  'concentration': 'East Asian Studies'},\n",
       " {'2010-11': '209',\n",
       "  '2011-12': '213',\n",
       "  '2012-13': '221',\n",
       "  '2013-14': '190',\n",
       "  '2014-15': '183',\n",
       "  'concentration': 'Economics'},\n",
       " {'2010-11': '0',\n",
       "  '2011-12': '0',\n",
       "  '2012-13': '8',\n",
       "  '2013-14': '6',\n",
       "  '2014-15': '10',\n",
       "  'concentration': 'Electrical Engineering'},\n",
       " {'2010-11': '38',\n",
       "  '2011-12': '49',\n",
       "  '2012-13': '45',\n",
       "  '2013-14': '40',\n",
       "  '2014-15': '33',\n",
       "  'concentration': 'Engineering Sciences'},\n",
       " {'2010-11': '81',\n",
       "  '2011-12': '67',\n",
       "  '2012-13': '72',\n",
       "  '2013-14': '50',\n",
       "  '2014-15': '58',\n",
       "  'concentration': 'English'},\n",
       " {'2010-11': '19',\n",
       "  '2011-12': '9',\n",
       "  '2012-13': '21',\n",
       "  '2013-14': '13',\n",
       "  '2014-15': '10',\n",
       "  'concentration': 'Environmental Science and Public Policy'},\n",
       " {'2010-11': '4',\n",
       "  '2011-12': '5',\n",
       "  '2012-13': '2',\n",
       "  '2013-14': '8',\n",
       "  '2014-15': '1',\n",
       "  'concentration': 'Folklore and Mythology'},\n",
       " {'2010-11': '5',\n",
       "  '2011-12': '2',\n",
       "  '2012-13': '1',\n",
       "  '2013-14': '1',\n",
       "  '2014-15': '3',\n",
       "  'concentration': 'Germanic Languages and Literatures'},\n",
       " {'2010-11': '183',\n",
       "  '2011-12': '180',\n",
       "  '2012-13': '145',\n",
       "  '2013-14': '202',\n",
       "  '2014-15': '148',\n",
       "  'concentration': 'Government'},\n",
       " {'2010-11': '64',\n",
       "  '2011-12': '65',\n",
       "  '2012-13': '63',\n",
       "  '2013-14': '63',\n",
       "  '2014-15': '50',\n",
       "  'concentration': 'History'},\n",
       " {'2010-11': '58',\n",
       "  '2011-12': '46',\n",
       "  '2012-13': '43',\n",
       "  '2013-14': '50',\n",
       "  '2014-15': '47',\n",
       "  'concentration': 'History and Literature'},\n",
       " {'2010-11': '47',\n",
       "  '2011-12': '43',\n",
       "  '2012-13': '47',\n",
       "  '2013-14': '38',\n",
       "  '2014-15': '40',\n",
       "  'concentration': 'History and Science'},\n",
       " {'2010-11': '25',\n",
       "  '2011-12': '22',\n",
       "  '2012-13': '23',\n",
       "  '2013-14': '20',\n",
       "  '2014-15': '29',\n",
       "  'concentration': 'History of Art and Architecture'},\n",
       " {'2010-11': '0',\n",
       "  '2011-12': '41',\n",
       "  '2012-13': '45',\n",
       "  '2013-14': '42',\n",
       "  '2014-15': '53',\n",
       "  'concentration': 'Human Developmental and Regenerative Biology'},\n",
       " {'2010-11': '41',\n",
       "  '2011-12': '38',\n",
       "  '2012-13': '48',\n",
       "  '2013-14': '58',\n",
       "  '2014-15': '44',\n",
       "  'concentration': 'Human Evolutionary Biology'},\n",
       " {'2010-11': '0',\n",
       "  '2011-12': '0',\n",
       "  '2012-13': '0',\n",
       "  '2013-14': '0',\n",
       "  '2014-15': '4',\n",
       "  'concentration': 'Integrative Biology'},\n",
       " {'2010-11': '13',\n",
       "  '2011-12': '10',\n",
       "  '2012-13': '13',\n",
       "  '2013-14': '12',\n",
       "  '2014-15': '7',\n",
       "  'concentration': 'Linguistics'},\n",
       " {'2010-11': '33',\n",
       "  '2011-12': '46',\n",
       "  '2012-13': '47',\n",
       "  '2013-14': '41',\n",
       "  '2014-15': '37',\n",
       "  'concentration': 'Mathematics'},\n",
       " {'2010-11': '0',\n",
       "  '2011-12': '0',\n",
       "  '2012-13': '0',\n",
       "  '2013-14': '14',\n",
       "  '2014-15': '14',\n",
       "  'concentration': 'Mechanical Engineering'},\n",
       " {'2010-11': '63',\n",
       "  '2011-12': '58',\n",
       "  '2012-13': '33',\n",
       "  '2013-14': '28',\n",
       "  '2014-15': '30',\n",
       "  'concentration': 'Molecular and Cellular Biology'},\n",
       " {'2010-11': '8',\n",
       "  '2011-12': '13',\n",
       "  '2012-13': '5',\n",
       "  '2013-14': '6',\n",
       "  '2014-15': '6',\n",
       "  'concentration': 'Music'},\n",
       " {'2010-11': '7',\n",
       "  '2011-12': '2',\n",
       "  '2012-13': '9',\n",
       "  '2013-14': '10',\n",
       "  '2014-15': '3',\n",
       "  'concentration': 'Near Eastern Languages and Civilizations'},\n",
       " {'2010-11': '69',\n",
       "  '2011-12': '85',\n",
       "  '2012-13': '79',\n",
       "  '2013-14': '78',\n",
       "  '2014-15': '67',\n",
       "  'concentration': 'Neurobiology'},\n",
       " {'2010-11': '33',\n",
       "  '2011-12': '36',\n",
       "  '2012-13': '45',\n",
       "  '2013-14': '40',\n",
       "  '2014-15': '38',\n",
       "  'concentration': 'Organismic and Evolutionary Biology'},\n",
       " {'2010-11': '22',\n",
       "  '2011-12': '28',\n",
       "  '2012-13': '21',\n",
       "  '2013-14': '24',\n",
       "  '2014-15': '24',\n",
       "  'concentration': 'Philosophy'},\n",
       " {'2010-11': '36',\n",
       "  '2011-12': '35',\n",
       "  '2012-13': '37',\n",
       "  '2013-14': '23',\n",
       "  '2014-15': '41',\n",
       "  'concentration': 'Physics'},\n",
       " {'2010-11': '93',\n",
       "  '2011-12': '88',\n",
       "  '2012-13': '100',\n",
       "  '2013-14': '89',\n",
       "  '2014-15': '93',\n",
       "  'concentration': 'Psychology'},\n",
       " {'2010-11': '26',\n",
       "  '2011-12': '18',\n",
       "  '2012-13': '15',\n",
       "  '2013-14': '15',\n",
       "  '2014-15': '15',\n",
       "  'concentration': 'Romance Languages and Literatures'},\n",
       " {'2010-11': '1',\n",
       "  '2011-12': '0',\n",
       "  '2012-13': '0',\n",
       "  '2013-14': '0',\n",
       "  '2014-15': '0',\n",
       "  'concentration': 'Sanskrit and Indian Studies'},\n",
       " {'2010-11': '7',\n",
       "  '2011-12': '4',\n",
       "  '2012-13': '4',\n",
       "  '2013-14': '3',\n",
       "  '2014-15': '0',\n",
       "  'concentration': 'Slavic Languages and Literatures'},\n",
       " {'2010-11': '86',\n",
       "  '2011-12': '85',\n",
       "  '2012-13': '93',\n",
       "  '2013-14': '98',\n",
       "  '2014-15': '83',\n",
       "  'concentration': 'Social Studies'},\n",
       " {'2010-11': '71',\n",
       "  '2011-12': '60',\n",
       "  '2012-13': '62',\n",
       "  '2013-14': '52',\n",
       "  '2014-15': '49',\n",
       "  'concentration': 'Sociology'},\n",
       " {'2010-11': '0',\n",
       "  '2011-12': '0',\n",
       "  '2012-13': '2',\n",
       "  '2013-14': '4',\n",
       "  '2014-15': '2',\n",
       "  'concentration': 'South Asian Studies'},\n",
       " {'2010-11': '13',\n",
       "  '2011-12': '14',\n",
       "  '2012-13': '23',\n",
       "  '2013-14': '36',\n",
       "  '2014-15': '43',\n",
       "  'concentration': 'Statistics'},\n",
       " {'2010-11': '8',\n",
       "  '2011-12': '10',\n",
       "  '2012-13': '11',\n",
       "  '2013-14': '14',\n",
       "  '2014-15': '13',\n",
       "  'concentration': 'Studies of Women, Gender, and Sexuality'},\n",
       " {'2010-11': '26',\n",
       "  '2011-12': '28',\n",
       "  '2012-13': '21',\n",
       "  '2013-14': '28',\n",
       "  '2014-15': '16',\n",
       "  'concentration': 'Visual and Environmental Studies'}]"
      ]
     },
     "execution_count": 21,
     "metadata": {},
     "output_type": "execute_result"
    }
   ],
   "source": [
    "# Let's see what we got\n",
    "concentration_data"
   ]
  },
  {
   "cell_type": "code",
   "execution_count": 22,
   "metadata": {
    "collapsed": true
   },
   "outputs": [],
   "source": [
    "# We can now start crunching the numbers!\n",
    "\n",
    "# Let's just see what the first piece of data looks like\n",
    "# Each year corresponds with the number of concentrators in that concentration\n",
    "# in that year.\n",
    "aaas = concentration_data[0]"
   ]
  },
  {
   "cell_type": "code",
   "execution_count": 23,
   "metadata": {},
   "outputs": [
    {
     "data": {
      "text/plain": [
       "{'2010-11': 6,\n",
       " '2011-12': 7,\n",
       " '2012-13': 11,\n",
       " '2013-14': 10,\n",
       " '2014-15': 10,\n",
       " 'concentration': 'African and African American Studies'}"
      ]
     },
     "execution_count": 23,
     "metadata": {},
     "output_type": "execute_result"
    }
   ],
   "source": [
    "# Ew, it looks like the enrollment numbers are strings, not integers!\n",
    "# That makes it harder to run calculations.\n",
    "# Let's clean up this data.\n",
    "\n",
    "def clean_concentration(raw):\n",
    "    return dict([\n",
    "        ('concentration', raw['concentration']),\n",
    "        ('2010-11', int(raw['2010-11'])),\n",
    "        ('2011-12', int(raw['2011-12'])),\n",
    "        ('2012-13', int(raw['2012-13'])),\n",
    "        ('2013-14', int(raw['2013-14'])),\n",
    "        ('2014-15', int(raw['2014-15']))\n",
    "    ])\n",
    "\n",
    "clean_concentration(aaas)"
   ]
  },
  {
   "cell_type": "code",
   "execution_count": 24,
   "metadata": {},
   "outputs": [
    {
     "data": {
      "text/plain": [
       "{'2010-11': 6,\n",
       " '2011-12': 7,\n",
       " '2012-13': 11,\n",
       " '2013-14': 10,\n",
       " '2014-15': 10,\n",
       " 'concentration': 'African and African American Studies'}"
      ]
     },
     "execution_count": 24,
     "metadata": {},
     "output_type": "execute_result"
    }
   ],
   "source": [
    "# That's better! Let's clean all the concentrations, then\n",
    "clean_concentration_data = [clean_concentration(c) for c in concentration_data]\n",
    "\n",
    "clean_concentration_data[0]"
   ]
  },
  {
   "cell_type": "code",
   "execution_count": 25,
   "metadata": {},
   "outputs": [
    {
     "data": {
      "text/plain": [
       "{'2010-11': 36,\n",
       " '2011-12': 36,\n",
       " '2012-13': 52,\n",
       " '2013-14': 89,\n",
       " '2014-15': 98,\n",
       " 'concentration': 'Computer Science'}"
      ]
     },
     "execution_count": 25,
     "metadata": {},
     "output_type": "execute_result"
    }
   ],
   "source": [
    "# Let's see how many concentrators Computer Science added from 2010-2015.\n",
    "# This is a trick to filter a list\n",
    "computer_science = [c for c in clean_concentration_data if c['concentration'] == 'Computer Science'][0]\n",
    "computer_science"
   ]
  },
  {
   "cell_type": "code",
   "execution_count": null,
   "metadata": {
    "collapsed": true
   },
   "outputs": [],
   "source": [
    "#####\n",
    "# Now it's your turn to start working with the data!\n",
    "#####"
   ]
  },
  {
   "cell_type": "code",
   "execution_count": null,
   "metadata": {
    "collapsed": true
   },
   "outputs": [],
   "source": [
    "# Calculate the growth in CS concentrators from 2010-11 to 2014-15. \n",
    "new_cs_concentrators = 0 # CHANGE ME\n",
    "growth_percent = 0 # CHANGE ME\n",
    "\n",
    "\"CS added {} concentrators, for a growth rate of {} percent!\".format(new_cs_concentrators, growth_percent)"
   ]
  },
  {
   "cell_type": "code",
   "execution_count": null,
   "metadata": {
    "collapsed": true
   },
   "outputs": [],
   "source": [
    "# Hey, that was cool. Why don't we do that for every concentration?\n",
    "\n",
    "def summary_for_concentration(concentration):\n",
    "    # Replace this with code that returns something like the above\n",
    "    # (\"CS added...\") for any given concentration\n",
    "    pass\n",
    "\n",
    "\n",
    "for c in clean_concentration_data:\n",
    "    print summary_for_concentration(c)"
   ]
  },
  {
   "cell_type": "code",
   "execution_count": null,
   "metadata": {
    "collapsed": true
   },
   "outputs": [],
   "source": [
    "# Things to do next:\n",
    "# - Print the 5 largest concentrations.\n",
    "# - Print the 5 fastest-growing concentrations.\n",
    "# - Add the growth rate to each concentration's dict.\n",
    "# - Write a new CSV that includes the growth rate for each concentration.\n",
    "\n",
    "# If you're feeling ambitious:\n",
    "# - Use matplotlib to make a graph."
   ]
  },
  {
   "cell_type": "code",
   "execution_count": null,
   "metadata": {
    "collapsed": true
   },
   "outputs": [],
   "source": []
  }
 ],
 "metadata": {
  "kernelspec": {
   "display_name": "Python 2",
   "language": "python",
   "name": "python2"
  },
  "language_info": {
   "codemirror_mode": {
    "name": "ipython",
    "version": 2
   },
   "file_extension": ".py",
   "mimetype": "text/x-python",
   "name": "python",
   "nbconvert_exporter": "python",
   "pygments_lexer": "ipython2",
   "version": "2.7.13"
  }
 },
 "nbformat": 4,
 "nbformat_minor": 2
}
