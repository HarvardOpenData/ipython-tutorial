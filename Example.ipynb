{
 "cells": [
  {
   "cell_type": "code",
   "execution_count": null,
   "metadata": {},
   "outputs": [],
   "source": [
    "# Welcome to the iPython notebook tutorial!"
   ]
  },
  {
   "cell_type": "code",
   "execution_count": null,
   "metadata": {},
   "outputs": [],
   "source": [
    "# You can write some Python code here and run it with Shift-Enter.\n",
    "# The result of your last line of code gets printed out,\n",
    "# so no more need for `print` statements!\n",
    "\n",
    "x = 5\n",
    "y = 3\n",
    "x + y"
   ]
  },
  {
   "cell_type": "code",
   "execution_count": null,
   "metadata": {},
   "outputs": [],
   "source": [
    "# iPython remembers the variables you've used before.\n",
    "x * y"
   ]
  },
  {
   "cell_type": "code",
   "execution_count": null,
   "metadata": {},
   "outputs": [],
   "source": [
    "# You can make functions too!\n",
    "\n",
    "def square(x):\n",
    "    return x * x\n",
    "\n",
    "square(12)"
   ]
  },
  {
   "cell_type": "code",
   "execution_count": null,
   "metadata": {},
   "outputs": [],
   "source": [
    "# You can go back and edit a previous line, too.\n",
    "# Can you turn the previous function `square` into `cube`?"
   ]
  },
  {
   "cell_type": "code",
   "execution_count": null,
   "metadata": {},
   "outputs": [],
   "source": [
    "# Let's play around with a real dataset."
   ]
  },
  {
   "cell_type": "code",
   "execution_count": null,
   "metadata": {},
   "outputs": [],
   "source": [
    "# It's a best practice to import all your required packages up here.\n",
    "\n",
    "import csv"
   ]
  },
  {
   "cell_type": "code",
   "execution_count": null,
   "metadata": {},
   "outputs": [],
   "source": [
    "# This is a handy recipe for turning a CSV into a \n",
    "# list of dictionaries - which are like structs in C\n",
    "# or objects in JavaScript, if you're familiar with those.\n",
    "\n",
    "concentration_data = []\n",
    "\n",
    "with open('concentration-enrollment.csv') as csvfile:\n",
    "    reader = csv.DictReader(csvfile)\n",
    "    for row in reader:\n",
    "        print(row['concentration'])\n",
    "        # You can't just do `concentration_data = reader`\n",
    "        # because the `reader` object disappears once the file\n",
    "        # is read. Instead, you want to copy each row into\n",
    "        # a different list.\n",
    "        concentration_data.append(row)"
   ]
  },
  {
   "cell_type": "code",
   "execution_count": null,
   "metadata": {},
   "outputs": [],
   "source": [
    "# Let's see what we got\n",
    "concentration_data"
   ]
  },
  {
   "cell_type": "code",
   "execution_count": null,
   "metadata": {},
   "outputs": [],
   "source": [
    "# We can now start crunching the numbers!\n",
    "\n",
    "# Let's just see what the first piece of data looks like\n",
    "# Each year corresponds with the number of concentrators in that concentration\n",
    "# in that year.\n",
    "concentration_data[0]"
   ]
  },
  {
   "cell_type": "code",
   "execution_count": null,
   "metadata": {},
   "outputs": [],
   "source": [
    "# Ew, it looks like the enrollment numbers are strings, not integers!\n",
    "# That makes it harder to run calculations.\n",
    "# Let's clean up this data.\n",
    "\n",
    "def clean_concentration(raw):\n",
    "    return dict([\n",
    "        ('concentration', raw['concentration']),\n",
    "        ('2010-11', int(raw['2010-11'])),\n",
    "        ('2011-12', int(raw['2011-12'])),\n",
    "        ('2012-13', int(raw['2012-13'])),\n",
    "        ('2013-14', int(raw['2013-14'])),\n",
    "        ('2014-15', int(raw['2014-15']))\n",
    "    ])\n",
    "\n",
    "clean_concentration(computer_science)"
   ]
  },
  {
   "cell_type": "code",
   "execution_count": null,
   "metadata": {},
   "outputs": [],
   "source": [
    "# That's better! Let's clean all the concentrations, then\n",
    "clean_concentration_data = [clean_concentration(c) for c in concentration_data]\n",
    "\n",
    "clean_concentration_data[0]"
   ]
  },
  {
   "cell_type": "code",
   "execution_count": null,
   "metadata": {},
   "outputs": [],
   "source": [
    "# Let's see how many concentrators Computer Science added from 2010-2015.\n",
    "# This is a trick to filter a list\n",
    "computer_science = [c for c in clean_concentration_data if c['concentration'] == 'Computer Science'][0]\n",
    "computer_science"
   ]
  },
  {
   "cell_type": "code",
   "execution_count": null,
   "metadata": {},
   "outputs": [],
   "source": [
    "#####\n",
    "# Now it's your turn to start working with the data!\n",
    "#####"
   ]
  },
  {
   "cell_type": "code",
   "execution_count": null,
   "metadata": {},
   "outputs": [],
   "source": [
    "# Calculate the growth in CS concentrators from 2010-11 to 2014-15. \n",
    "new_cs_concentrators = 0 # CHANGE ME\n",
    "growth_percent = 0 # CHANGE ME\n",
    "\n",
    "\"CS added {} concentrators, for a growth rate of {} percent!\".format(new_cs_concentrators, growth_percent)"
   ]
  },
  {
   "cell_type": "code",
   "execution_count": null,
   "metadata": {},
   "outputs": [],
   "source": [
    "# Hey, that was cool. Why don't we do that for every concentration?\n",
    "\n",
    "def summary_for_concentration(concentration):\n",
    "    # Replace this with code that returns something like the above\n",
    "    # (\"CS added...\") for any given concentration\n",
    "    pass\n",
    "\n",
    "\n",
    "for c in clean_concentration_data:\n",
    "    print summary_for_concentration(c)"
   ]
  },
  {
   "cell_type": "code",
   "execution_count": null,
   "metadata": {},
   "outputs": [],
   "source": [
    "# Things to do next:\n",
    "# - Print the 5 largest concentrations.\n",
    "# - Print the 5 fastest-growing concentrations.\n",
    "# - Add the growth rate to each concentration's dict.\n",
    "# - Write a new CSV that includes the growth rate for each concentration.\n",
    "\n",
    "# If you're feeling ambitious:\n",
    "# - Use matplotlib to make a graph."
   ]
  },
  {
   "cell_type": "code",
   "execution_count": null,
   "metadata": {},
   "outputs": [],
   "source": []
  }
 ],
 "metadata": {
  "kernelspec": {
   "display_name": "Python 2",
   "language": "python",
   "name": "python2"
  },
  "language_info": {
   "codemirror_mode": {
    "name": "ipython",
    "version": 2
   },
   "file_extension": ".py",
   "mimetype": "text/x-python",
   "name": "python",
   "nbconvert_exporter": "python",
   "pygments_lexer": "ipython2",
   "version": "2.7.14"
  }
 },
 "nbformat": 4,
 "nbformat_minor": 2
}
