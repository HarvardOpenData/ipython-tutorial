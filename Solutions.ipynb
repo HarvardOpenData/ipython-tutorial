{
 "cells": [
  {
   "cell_type": "code",
   "execution_count": 1,
   "metadata": {},
   "outputs": [],
   "source": [
    "# Welcome to the iPython notebook tutorial!"
   ]
  },
  {
   "cell_type": "code",
   "execution_count": 1,
   "metadata": {},
   "outputs": [
    {
     "data": {
      "text/plain": [
       "8"
      ]
     },
     "execution_count": 1,
     "metadata": {},
     "output_type": "execute_result"
    }
   ],
   "source": [
    "# You can write some Python code here and run it with Shift-Enter.\n",
    "# The result of your last line of code gets printed out,\n",
    "# so no more need for `print` statements!\n",
    "\n",
    "x = 5\n",
    "y = 3\n",
    "x + y"
   ]
  },
  {
   "cell_type": "code",
   "execution_count": 2,
   "metadata": {},
   "outputs": [
    {
     "data": {
      "text/plain": [
       "15"
      ]
     },
     "execution_count": 2,
     "metadata": {},
     "output_type": "execute_result"
    }
   ],
   "source": [
    "# iPython remembers the variables you've used before.\n",
    "x * y"
   ]
  },
  {
   "cell_type": "code",
   "execution_count": 3,
   "metadata": {},
   "outputs": [
    {
     "data": {
      "text/plain": [
       "144"
      ]
     },
     "execution_count": 3,
     "metadata": {},
     "output_type": "execute_result"
    }
   ],
   "source": [
    "# You can make functions too!\n",
    "\n",
    "def square(x):\n",
    "    return x * x\n",
    "\n",
    "square(12)"
   ]
  },
  {
   "cell_type": "code",
   "execution_count": 4,
   "metadata": {},
   "outputs": [
    {
     "data": {
      "text/plain": [
       "27"
      ]
     },
     "execution_count": 4,
     "metadata": {},
     "output_type": "execute_result"
    }
   ],
   "source": [
    "# You can go back and edit a previous line, too.\n",
    "# Can you turn the previous function `square` into `cube`?\n",
    "\n",
    "def cube(x):\n",
    "    return x * square(x)\n",
    "\n",
    "cube(3)"
   ]
  },
  {
   "cell_type": "code",
   "execution_count": 5,
   "metadata": {},
   "outputs": [
    {
     "name": "stdout",
     "output_type": "stream",
     "text": [
      "[1, 2, 3, 4, 7]\n",
      "[7, 4, 3, 2, 1]\n"
     ]
    }
   ],
   "source": [
    "# How would you sort the list below in increasing order? Decreasing order?\n",
    "# You might find this documentation helpful: https://developers.google.com/edu/python/sorting\n",
    "\n",
    "lst = [4, 7, 1, 2, 3]\n",
    "\n",
    "sorted_increasing = sorted(lst)\n",
    "sorted_decreasing = sorted(lst, reverse=True)\n",
    "\n",
    "print(sorted_increasing)\n",
    "print(sorted_decreasing)"
   ]
  },
  {
   "cell_type": "code",
   "execution_count": 6,
   "metadata": {},
   "outputs": [
    {
     "data": {
      "text/plain": [
       "[1, 2, 3, 4, 7]"
      ]
     },
     "execution_count": 6,
     "metadata": {},
     "output_type": "execute_result"
    }
   ],
   "source": [
    "# To sort the list in place instead of making a copy, just use the function LISTNAME.sort:\n",
    "\n",
    "lst.sort()\n",
    "lst"
   ]
  },
  {
   "cell_type": "code",
   "execution_count": 7,
   "metadata": {},
   "outputs": [],
   "source": [
    "# Let's play around with a real dataset."
   ]
  },
  {
   "cell_type": "code",
   "execution_count": 8,
   "metadata": {},
   "outputs": [],
   "source": [
    "# It's a best practice to import all your required packages up here.\n",
    "\n",
    "import csv"
   ]
  },
  {
   "cell_type": "code",
   "execution_count": 9,
   "metadata": {},
   "outputs": [
    {
     "name": "stdout",
     "output_type": "stream",
     "text": [
      "African and African American Studies\n",
      "Anthropology\n",
      "Applied Mathematics\n",
      "Astrophysics\n",
      "Biochemical Sciences\n",
      "Biomedical Engineering\n",
      "Chemical and Physical Biology\n",
      "Chemistry\n",
      "Chemistry and Physics\n",
      "Classics\n",
      "Comparative Literature\n",
      "Comparative Study of Religion\n",
      "Computer Science\n",
      "Earth and Planetary Sciences\n",
      "East Asian Studies\n",
      "Economics\n",
      "Electrical Engineering\n",
      "Engineering Sciences\n",
      "English\n",
      "Environmental Science and Public Policy\n",
      "Folklore and Mythology\n",
      "Germanic Languages and Literatures\n",
      "Government\n",
      "History\n",
      "History and Literature\n",
      "History and Science\n",
      "History of Art and Architecture\n",
      "Human Developmental and Regenerative Biology\n",
      "Human Evolutionary Biology\n",
      "Integrative Biology\n",
      "Linguistics\n",
      "Mathematics\n",
      "Mechanical Engineering\n",
      "Molecular and Cellular Biology\n",
      "Music\n",
      "Near Eastern Languages and Civilizations\n",
      "Neurobiology\n",
      "Organismic and Evolutionary Biology\n",
      "Philosophy\n",
      "Physics\n",
      "Psychology\n",
      "Romance Languages and Literatures\n",
      "Sanskrit and Indian Studies\n",
      "Slavic Languages and Literatures\n",
      "Social Studies\n",
      "Sociology\n",
      "South Asian Studies\n",
      "Statistics\n",
      "Studies of Women, Gender, and Sexuality\n",
      "Visual and Environmental Studies\n"
     ]
    }
   ],
   "source": [
    "# This is a handy recipe for turning a CSV into a \n",
    "# list of dictionaries - which are like structs in C\n",
    "# or objects in JavaScript, if you're familiar with those.\n",
    "\n",
    "concentration_data = []\n",
    "\n",
    "with open('concentration-enrollment.csv') as csvfile:\n",
    "    reader = csv.DictReader(csvfile)\n",
    "    for row in reader:\n",
    "        print(row['concentration'])\n",
    "        # You can't just do `concentration_data = reader`\n",
    "        # because the `reader` object disappears once the file\n",
    "        # is read. Instead, you want to copy each row into\n",
    "        # a different list.\n",
    "        concentration_data.append(row)"
   ]
  },
  {
   "cell_type": "code",
   "execution_count": 10,
   "metadata": {},
   "outputs": [
    {
     "data": {
      "text/plain": [
       "[OrderedDict([('concentration', 'African and African American Studies'),\n",
       "              ('2010-11', '6'),\n",
       "              ('2011-12', '7'),\n",
       "              ('2012-13', '11'),\n",
       "              ('2013-14', '10'),\n",
       "              ('2014-15', '10')]),\n",
       " OrderedDict([('concentration', 'Anthropology'),\n",
       "              ('2010-11', '39'),\n",
       "              ('2011-12', '34'),\n",
       "              ('2012-13', '29'),\n",
       "              ('2013-14', '15'),\n",
       "              ('2014-15', '27')]),\n",
       " OrderedDict([('concentration', 'Applied Mathematics'),\n",
       "              ('2010-11', '59'),\n",
       "              ('2011-12', '49'),\n",
       "              ('2012-13', '66'),\n",
       "              ('2013-14', '65'),\n",
       "              ('2014-15', '91')]),\n",
       " OrderedDict([('concentration', 'Astrophysics'),\n",
       "              ('2010-11', '6'),\n",
       "              ('2011-12', '14'),\n",
       "              ('2012-13', '3'),\n",
       "              ('2013-14', '8'),\n",
       "              ('2014-15', '11')]),\n",
       " OrderedDict([('concentration', 'Biochemical Sciences'),\n",
       "              ('2010-11', '2'),\n",
       "              ('2011-12', '1'),\n",
       "              ('2012-13', '2'),\n",
       "              ('2013-14', '0'),\n",
       "              ('2014-15', '0')]),\n",
       " OrderedDict([('concentration', 'Biomedical Engineering'),\n",
       "              ('2010-11', '4'),\n",
       "              ('2011-12', '11'),\n",
       "              ('2012-13', '11'),\n",
       "              ('2013-14', '17'),\n",
       "              ('2014-15', '15')]),\n",
       " OrderedDict([('concentration', 'Chemical and Physical Biology'),\n",
       "              ('2010-11', '15'),\n",
       "              ('2011-12', '16'),\n",
       "              ('2012-13', '15'),\n",
       "              ('2013-14', '14'),\n",
       "              ('2014-15', '18')]),\n",
       " OrderedDict([('concentration', 'Chemistry'),\n",
       "              ('2010-11', '34'),\n",
       "              ('2011-12', '21'),\n",
       "              ('2012-13', '25'),\n",
       "              ('2013-14', '32'),\n",
       "              ('2014-15', '35')]),\n",
       " OrderedDict([('concentration', 'Chemistry and Physics'),\n",
       "              ('2010-11', '11'),\n",
       "              ('2011-12', '16'),\n",
       "              ('2012-13', '14'),\n",
       "              ('2013-14', '18'),\n",
       "              ('2014-15', '7')]),\n",
       " OrderedDict([('concentration', 'Classics'),\n",
       "              ('2010-11', '17'),\n",
       "              ('2011-12', '18'),\n",
       "              ('2012-13', '9'),\n",
       "              ('2013-14', '12'),\n",
       "              ('2014-15', '20')]),\n",
       " OrderedDict([('concentration', 'Comparative Literature'),\n",
       "              ('2010-11', '15'),\n",
       "              ('2011-12', '9'),\n",
       "              ('2012-13', '19'),\n",
       "              ('2013-14', '13'),\n",
       "              ('2014-15', '10')]),\n",
       " OrderedDict([('concentration', 'Comparative Study of Religion'),\n",
       "              ('2010-11', '14'),\n",
       "              ('2011-12', '9'),\n",
       "              ('2012-13', '12'),\n",
       "              ('2013-14', '8'),\n",
       "              ('2014-15', '7')]),\n",
       " OrderedDict([('concentration', 'Computer Science'),\n",
       "              ('2010-11', '36'),\n",
       "              ('2011-12', '36'),\n",
       "              ('2012-13', '52'),\n",
       "              ('2013-14', '89'),\n",
       "              ('2014-15', '98')]),\n",
       " OrderedDict([('concentration', 'Earth and Planetary Sciences'),\n",
       "              ('2010-11', '5'),\n",
       "              ('2011-12', '10'),\n",
       "              ('2012-13', '9'),\n",
       "              ('2013-14', '7'),\n",
       "              ('2014-15', '7')]),\n",
       " OrderedDict([('concentration', 'East Asian Studies'),\n",
       "              ('2010-11', '18'),\n",
       "              ('2011-12', '14'),\n",
       "              ('2012-13', '21'),\n",
       "              ('2013-14', '23'),\n",
       "              ('2014-15', '25')]),\n",
       " OrderedDict([('concentration', 'Economics'),\n",
       "              ('2010-11', '209'),\n",
       "              ('2011-12', '213'),\n",
       "              ('2012-13', '221'),\n",
       "              ('2013-14', '190'),\n",
       "              ('2014-15', '183')]),\n",
       " OrderedDict([('concentration', 'Electrical Engineering'),\n",
       "              ('2010-11', '0'),\n",
       "              ('2011-12', '0'),\n",
       "              ('2012-13', '8'),\n",
       "              ('2013-14', '6'),\n",
       "              ('2014-15', '10')]),\n",
       " OrderedDict([('concentration', 'Engineering Sciences'),\n",
       "              ('2010-11', '38'),\n",
       "              ('2011-12', '49'),\n",
       "              ('2012-13', '45'),\n",
       "              ('2013-14', '40'),\n",
       "              ('2014-15', '33')]),\n",
       " OrderedDict([('concentration', 'English'),\n",
       "              ('2010-11', '81'),\n",
       "              ('2011-12', '67'),\n",
       "              ('2012-13', '72'),\n",
       "              ('2013-14', '50'),\n",
       "              ('2014-15', '58')]),\n",
       " OrderedDict([('concentration', 'Environmental Science and Public Policy'),\n",
       "              ('2010-11', '19'),\n",
       "              ('2011-12', '9'),\n",
       "              ('2012-13', '21'),\n",
       "              ('2013-14', '13'),\n",
       "              ('2014-15', '10')]),\n",
       " OrderedDict([('concentration', 'Folklore and Mythology'),\n",
       "              ('2010-11', '4'),\n",
       "              ('2011-12', '5'),\n",
       "              ('2012-13', '2'),\n",
       "              ('2013-14', '8'),\n",
       "              ('2014-15', '1')]),\n",
       " OrderedDict([('concentration', 'Germanic Languages and Literatures'),\n",
       "              ('2010-11', '5'),\n",
       "              ('2011-12', '2'),\n",
       "              ('2012-13', '1'),\n",
       "              ('2013-14', '1'),\n",
       "              ('2014-15', '3')]),\n",
       " OrderedDict([('concentration', 'Government'),\n",
       "              ('2010-11', '183'),\n",
       "              ('2011-12', '180'),\n",
       "              ('2012-13', '145'),\n",
       "              ('2013-14', '202'),\n",
       "              ('2014-15', '148')]),\n",
       " OrderedDict([('concentration', 'History'),\n",
       "              ('2010-11', '64'),\n",
       "              ('2011-12', '65'),\n",
       "              ('2012-13', '63'),\n",
       "              ('2013-14', '63'),\n",
       "              ('2014-15', '50')]),\n",
       " OrderedDict([('concentration', 'History and Literature'),\n",
       "              ('2010-11', '58'),\n",
       "              ('2011-12', '46'),\n",
       "              ('2012-13', '43'),\n",
       "              ('2013-14', '50'),\n",
       "              ('2014-15', '47')]),\n",
       " OrderedDict([('concentration', 'History and Science'),\n",
       "              ('2010-11', '47'),\n",
       "              ('2011-12', '43'),\n",
       "              ('2012-13', '47'),\n",
       "              ('2013-14', '38'),\n",
       "              ('2014-15', '40')]),\n",
       " OrderedDict([('concentration', 'History of Art and Architecture'),\n",
       "              ('2010-11', '25'),\n",
       "              ('2011-12', '22'),\n",
       "              ('2012-13', '23'),\n",
       "              ('2013-14', '20'),\n",
       "              ('2014-15', '29')]),\n",
       " OrderedDict([('concentration',\n",
       "               'Human Developmental and Regenerative Biology'),\n",
       "              ('2010-11', '0'),\n",
       "              ('2011-12', '41'),\n",
       "              ('2012-13', '45'),\n",
       "              ('2013-14', '42'),\n",
       "              ('2014-15', '53')]),\n",
       " OrderedDict([('concentration', 'Human Evolutionary Biology'),\n",
       "              ('2010-11', '41'),\n",
       "              ('2011-12', '38'),\n",
       "              ('2012-13', '48'),\n",
       "              ('2013-14', '58'),\n",
       "              ('2014-15', '44')]),\n",
       " OrderedDict([('concentration', 'Integrative Biology'),\n",
       "              ('2010-11', '0'),\n",
       "              ('2011-12', '0'),\n",
       "              ('2012-13', '0'),\n",
       "              ('2013-14', '0'),\n",
       "              ('2014-15', '4')]),\n",
       " OrderedDict([('concentration', 'Linguistics'),\n",
       "              ('2010-11', '13'),\n",
       "              ('2011-12', '10'),\n",
       "              ('2012-13', '13'),\n",
       "              ('2013-14', '12'),\n",
       "              ('2014-15', '7')]),\n",
       " OrderedDict([('concentration', 'Mathematics'),\n",
       "              ('2010-11', '33'),\n",
       "              ('2011-12', '46'),\n",
       "              ('2012-13', '47'),\n",
       "              ('2013-14', '41'),\n",
       "              ('2014-15', '37')]),\n",
       " OrderedDict([('concentration', 'Mechanical Engineering'),\n",
       "              ('2010-11', '0'),\n",
       "              ('2011-12', '0'),\n",
       "              ('2012-13', '0'),\n",
       "              ('2013-14', '14'),\n",
       "              ('2014-15', '14')]),\n",
       " OrderedDict([('concentration', 'Molecular and Cellular Biology'),\n",
       "              ('2010-11', '63'),\n",
       "              ('2011-12', '58'),\n",
       "              ('2012-13', '33'),\n",
       "              ('2013-14', '28'),\n",
       "              ('2014-15', '30')]),\n",
       " OrderedDict([('concentration', 'Music'),\n",
       "              ('2010-11', '8'),\n",
       "              ('2011-12', '13'),\n",
       "              ('2012-13', '5'),\n",
       "              ('2013-14', '6'),\n",
       "              ('2014-15', '6')]),\n",
       " OrderedDict([('concentration', 'Near Eastern Languages and Civilizations'),\n",
       "              ('2010-11', '7'),\n",
       "              ('2011-12', '2'),\n",
       "              ('2012-13', '9'),\n",
       "              ('2013-14', '10'),\n",
       "              ('2014-15', '3')]),\n",
       " OrderedDict([('concentration', 'Neurobiology'),\n",
       "              ('2010-11', '69'),\n",
       "              ('2011-12', '85'),\n",
       "              ('2012-13', '79'),\n",
       "              ('2013-14', '78'),\n",
       "              ('2014-15', '67')]),\n",
       " OrderedDict([('concentration', 'Organismic and Evolutionary Biology'),\n",
       "              ('2010-11', '33'),\n",
       "              ('2011-12', '36'),\n",
       "              ('2012-13', '45'),\n",
       "              ('2013-14', '40'),\n",
       "              ('2014-15', '38')]),\n",
       " OrderedDict([('concentration', 'Philosophy'),\n",
       "              ('2010-11', '22'),\n",
       "              ('2011-12', '28'),\n",
       "              ('2012-13', '21'),\n",
       "              ('2013-14', '24'),\n",
       "              ('2014-15', '24')]),\n",
       " OrderedDict([('concentration', 'Physics'),\n",
       "              ('2010-11', '36'),\n",
       "              ('2011-12', '35'),\n",
       "              ('2012-13', '37'),\n",
       "              ('2013-14', '23'),\n",
       "              ('2014-15', '41')]),\n",
       " OrderedDict([('concentration', 'Psychology'),\n",
       "              ('2010-11', '93'),\n",
       "              ('2011-12', '88'),\n",
       "              ('2012-13', '100'),\n",
       "              ('2013-14', '89'),\n",
       "              ('2014-15', '93')]),\n",
       " OrderedDict([('concentration', 'Romance Languages and Literatures'),\n",
       "              ('2010-11', '26'),\n",
       "              ('2011-12', '18'),\n",
       "              ('2012-13', '15'),\n",
       "              ('2013-14', '15'),\n",
       "              ('2014-15', '15')]),\n",
       " OrderedDict([('concentration', 'Sanskrit and Indian Studies'),\n",
       "              ('2010-11', '1'),\n",
       "              ('2011-12', '0'),\n",
       "              ('2012-13', '0'),\n",
       "              ('2013-14', '0'),\n",
       "              ('2014-15', '0')]),\n",
       " OrderedDict([('concentration', 'Slavic Languages and Literatures'),\n",
       "              ('2010-11', '7'),\n",
       "              ('2011-12', '4'),\n",
       "              ('2012-13', '4'),\n",
       "              ('2013-14', '3'),\n",
       "              ('2014-15', '0')]),\n",
       " OrderedDict([('concentration', 'Social Studies'),\n",
       "              ('2010-11', '86'),\n",
       "              ('2011-12', '85'),\n",
       "              ('2012-13', '93'),\n",
       "              ('2013-14', '98'),\n",
       "              ('2014-15', '83')]),\n",
       " OrderedDict([('concentration', 'Sociology'),\n",
       "              ('2010-11', '71'),\n",
       "              ('2011-12', '60'),\n",
       "              ('2012-13', '62'),\n",
       "              ('2013-14', '52'),\n",
       "              ('2014-15', '49')]),\n",
       " OrderedDict([('concentration', 'South Asian Studies'),\n",
       "              ('2010-11', '0'),\n",
       "              ('2011-12', '0'),\n",
       "              ('2012-13', '2'),\n",
       "              ('2013-14', '4'),\n",
       "              ('2014-15', '2')]),\n",
       " OrderedDict([('concentration', 'Statistics'),\n",
       "              ('2010-11', '13'),\n",
       "              ('2011-12', '14'),\n",
       "              ('2012-13', '23'),\n",
       "              ('2013-14', '36'),\n",
       "              ('2014-15', '43')]),\n",
       " OrderedDict([('concentration', 'Studies of Women, Gender, and Sexuality'),\n",
       "              ('2010-11', '8'),\n",
       "              ('2011-12', '10'),\n",
       "              ('2012-13', '11'),\n",
       "              ('2013-14', '14'),\n",
       "              ('2014-15', '13')]),\n",
       " OrderedDict([('concentration', 'Visual and Environmental Studies'),\n",
       "              ('2010-11', '26'),\n",
       "              ('2011-12', '28'),\n",
       "              ('2012-13', '21'),\n",
       "              ('2013-14', '28'),\n",
       "              ('2014-15', '16')])]"
      ]
     },
     "execution_count": 10,
     "metadata": {},
     "output_type": "execute_result"
    }
   ],
   "source": [
    "# Let's see what we got\n",
    "concentration_data"
   ]
  },
  {
   "cell_type": "code",
   "execution_count": 12,
   "metadata": {},
   "outputs": [
    {
     "data": {
      "text/plain": [
       "OrderedDict([('concentration', 'African and African American Studies'),\n",
       "             ('2010-11', '6'),\n",
       "             ('2011-12', '7'),\n",
       "             ('2012-13', '11'),\n",
       "             ('2013-14', '10'),\n",
       "             ('2014-15', '10')])"
      ]
     },
     "execution_count": 12,
     "metadata": {},
     "output_type": "execute_result"
    }
   ],
   "source": [
    "# We can now start crunching the numbers!\n",
    "\n",
    "# Can you access the first concentration in the dataset?\n",
    "\n",
    "aaas = concentration_data[0]\n",
    "aaas"
   ]
  },
  {
   "cell_type": "code",
   "execution_count": 13,
   "metadata": {},
   "outputs": [
    {
     "data": {
      "text/plain": [
       "{'concentration': 'African and African American Studies',\n",
       " '2010-11': 6,\n",
       " '2011-12': 7,\n",
       " '2012-13': 11,\n",
       " '2013-14': 10,\n",
       " '2014-15': 10}"
      ]
     },
     "execution_count": 13,
     "metadata": {},
     "output_type": "execute_result"
    }
   ],
   "source": [
    "# Ew, it looks like the enrollment numbers are strings, not integers!\n",
    "# That makes it harder to run calculations.\n",
    "# Let's clean up this data.\n",
    "\n",
    "def clean_concentration(raw):\n",
    "    return dict([\n",
    "        ('concentration', raw['concentration']),\n",
    "        ('2010-11', int(raw['2010-11'])),\n",
    "        ('2011-12', int(raw['2011-12'])),\n",
    "        ('2012-13', int(raw['2012-13'])),\n",
    "        ('2013-14', int(raw['2013-14'])),\n",
    "        ('2014-15', int(raw['2014-15']))\n",
    "    ])\n",
    "\n",
    "clean_concentration(aaas)"
   ]
  },
  {
   "cell_type": "code",
   "execution_count": 16,
   "metadata": {},
   "outputs": [
    {
     "data": {
      "text/plain": [
       "[{'concentration': 'African and African American Studies',\n",
       "  '2010-11': 6,\n",
       "  '2011-12': 7,\n",
       "  '2012-13': 11,\n",
       "  '2013-14': 10,\n",
       "  '2014-15': 10},\n",
       " {'concentration': 'Anthropology',\n",
       "  '2010-11': 39,\n",
       "  '2011-12': 34,\n",
       "  '2012-13': 29,\n",
       "  '2013-14': 15,\n",
       "  '2014-15': 27},\n",
       " {'concentration': 'Applied Mathematics',\n",
       "  '2010-11': 59,\n",
       "  '2011-12': 49,\n",
       "  '2012-13': 66,\n",
       "  '2013-14': 65,\n",
       "  '2014-15': 91},\n",
       " {'concentration': 'Astrophysics',\n",
       "  '2010-11': 6,\n",
       "  '2011-12': 14,\n",
       "  '2012-13': 3,\n",
       "  '2013-14': 8,\n",
       "  '2014-15': 11},\n",
       " {'concentration': 'Biochemical Sciences',\n",
       "  '2010-11': 2,\n",
       "  '2011-12': 1,\n",
       "  '2012-13': 2,\n",
       "  '2013-14': 0,\n",
       "  '2014-15': 0},\n",
       " {'concentration': 'Biomedical Engineering',\n",
       "  '2010-11': 4,\n",
       "  '2011-12': 11,\n",
       "  '2012-13': 11,\n",
       "  '2013-14': 17,\n",
       "  '2014-15': 15},\n",
       " {'concentration': 'Chemical and Physical Biology',\n",
       "  '2010-11': 15,\n",
       "  '2011-12': 16,\n",
       "  '2012-13': 15,\n",
       "  '2013-14': 14,\n",
       "  '2014-15': 18},\n",
       " {'concentration': 'Chemistry',\n",
       "  '2010-11': 34,\n",
       "  '2011-12': 21,\n",
       "  '2012-13': 25,\n",
       "  '2013-14': 32,\n",
       "  '2014-15': 35},\n",
       " {'concentration': 'Chemistry and Physics',\n",
       "  '2010-11': 11,\n",
       "  '2011-12': 16,\n",
       "  '2012-13': 14,\n",
       "  '2013-14': 18,\n",
       "  '2014-15': 7},\n",
       " {'concentration': 'Classics',\n",
       "  '2010-11': 17,\n",
       "  '2011-12': 18,\n",
       "  '2012-13': 9,\n",
       "  '2013-14': 12,\n",
       "  '2014-15': 20},\n",
       " {'concentration': 'Comparative Literature',\n",
       "  '2010-11': 15,\n",
       "  '2011-12': 9,\n",
       "  '2012-13': 19,\n",
       "  '2013-14': 13,\n",
       "  '2014-15': 10},\n",
       " {'concentration': 'Comparative Study of Religion',\n",
       "  '2010-11': 14,\n",
       "  '2011-12': 9,\n",
       "  '2012-13': 12,\n",
       "  '2013-14': 8,\n",
       "  '2014-15': 7},\n",
       " {'concentration': 'Computer Science',\n",
       "  '2010-11': 36,\n",
       "  '2011-12': 36,\n",
       "  '2012-13': 52,\n",
       "  '2013-14': 89,\n",
       "  '2014-15': 98},\n",
       " {'concentration': 'Earth and Planetary Sciences',\n",
       "  '2010-11': 5,\n",
       "  '2011-12': 10,\n",
       "  '2012-13': 9,\n",
       "  '2013-14': 7,\n",
       "  '2014-15': 7},\n",
       " {'concentration': 'East Asian Studies',\n",
       "  '2010-11': 18,\n",
       "  '2011-12': 14,\n",
       "  '2012-13': 21,\n",
       "  '2013-14': 23,\n",
       "  '2014-15': 25},\n",
       " {'concentration': 'Economics',\n",
       "  '2010-11': 209,\n",
       "  '2011-12': 213,\n",
       "  '2012-13': 221,\n",
       "  '2013-14': 190,\n",
       "  '2014-15': 183},\n",
       " {'concentration': 'Electrical Engineering',\n",
       "  '2010-11': 0,\n",
       "  '2011-12': 0,\n",
       "  '2012-13': 8,\n",
       "  '2013-14': 6,\n",
       "  '2014-15': 10},\n",
       " {'concentration': 'Engineering Sciences',\n",
       "  '2010-11': 38,\n",
       "  '2011-12': 49,\n",
       "  '2012-13': 45,\n",
       "  '2013-14': 40,\n",
       "  '2014-15': 33},\n",
       " {'concentration': 'English',\n",
       "  '2010-11': 81,\n",
       "  '2011-12': 67,\n",
       "  '2012-13': 72,\n",
       "  '2013-14': 50,\n",
       "  '2014-15': 58},\n",
       " {'concentration': 'Environmental Science and Public Policy',\n",
       "  '2010-11': 19,\n",
       "  '2011-12': 9,\n",
       "  '2012-13': 21,\n",
       "  '2013-14': 13,\n",
       "  '2014-15': 10},\n",
       " {'concentration': 'Folklore and Mythology',\n",
       "  '2010-11': 4,\n",
       "  '2011-12': 5,\n",
       "  '2012-13': 2,\n",
       "  '2013-14': 8,\n",
       "  '2014-15': 1},\n",
       " {'concentration': 'Germanic Languages and Literatures',\n",
       "  '2010-11': 5,\n",
       "  '2011-12': 2,\n",
       "  '2012-13': 1,\n",
       "  '2013-14': 1,\n",
       "  '2014-15': 3},\n",
       " {'concentration': 'Government',\n",
       "  '2010-11': 183,\n",
       "  '2011-12': 180,\n",
       "  '2012-13': 145,\n",
       "  '2013-14': 202,\n",
       "  '2014-15': 148},\n",
       " {'concentration': 'History',\n",
       "  '2010-11': 64,\n",
       "  '2011-12': 65,\n",
       "  '2012-13': 63,\n",
       "  '2013-14': 63,\n",
       "  '2014-15': 50},\n",
       " {'concentration': 'History and Literature',\n",
       "  '2010-11': 58,\n",
       "  '2011-12': 46,\n",
       "  '2012-13': 43,\n",
       "  '2013-14': 50,\n",
       "  '2014-15': 47},\n",
       " {'concentration': 'History and Science',\n",
       "  '2010-11': 47,\n",
       "  '2011-12': 43,\n",
       "  '2012-13': 47,\n",
       "  '2013-14': 38,\n",
       "  '2014-15': 40},\n",
       " {'concentration': 'History of Art and Architecture',\n",
       "  '2010-11': 25,\n",
       "  '2011-12': 22,\n",
       "  '2012-13': 23,\n",
       "  '2013-14': 20,\n",
       "  '2014-15': 29},\n",
       " {'concentration': 'Human Developmental and Regenerative Biology',\n",
       "  '2010-11': 0,\n",
       "  '2011-12': 41,\n",
       "  '2012-13': 45,\n",
       "  '2013-14': 42,\n",
       "  '2014-15': 53},\n",
       " {'concentration': 'Human Evolutionary Biology',\n",
       "  '2010-11': 41,\n",
       "  '2011-12': 38,\n",
       "  '2012-13': 48,\n",
       "  '2013-14': 58,\n",
       "  '2014-15': 44},\n",
       " {'concentration': 'Integrative Biology',\n",
       "  '2010-11': 0,\n",
       "  '2011-12': 0,\n",
       "  '2012-13': 0,\n",
       "  '2013-14': 0,\n",
       "  '2014-15': 4},\n",
       " {'concentration': 'Linguistics',\n",
       "  '2010-11': 13,\n",
       "  '2011-12': 10,\n",
       "  '2012-13': 13,\n",
       "  '2013-14': 12,\n",
       "  '2014-15': 7},\n",
       " {'concentration': 'Mathematics',\n",
       "  '2010-11': 33,\n",
       "  '2011-12': 46,\n",
       "  '2012-13': 47,\n",
       "  '2013-14': 41,\n",
       "  '2014-15': 37},\n",
       " {'concentration': 'Mechanical Engineering',\n",
       "  '2010-11': 0,\n",
       "  '2011-12': 0,\n",
       "  '2012-13': 0,\n",
       "  '2013-14': 14,\n",
       "  '2014-15': 14},\n",
       " {'concentration': 'Molecular and Cellular Biology',\n",
       "  '2010-11': 63,\n",
       "  '2011-12': 58,\n",
       "  '2012-13': 33,\n",
       "  '2013-14': 28,\n",
       "  '2014-15': 30},\n",
       " {'concentration': 'Music',\n",
       "  '2010-11': 8,\n",
       "  '2011-12': 13,\n",
       "  '2012-13': 5,\n",
       "  '2013-14': 6,\n",
       "  '2014-15': 6},\n",
       " {'concentration': 'Near Eastern Languages and Civilizations',\n",
       "  '2010-11': 7,\n",
       "  '2011-12': 2,\n",
       "  '2012-13': 9,\n",
       "  '2013-14': 10,\n",
       "  '2014-15': 3},\n",
       " {'concentration': 'Neurobiology',\n",
       "  '2010-11': 69,\n",
       "  '2011-12': 85,\n",
       "  '2012-13': 79,\n",
       "  '2013-14': 78,\n",
       "  '2014-15': 67},\n",
       " {'concentration': 'Organismic and Evolutionary Biology',\n",
       "  '2010-11': 33,\n",
       "  '2011-12': 36,\n",
       "  '2012-13': 45,\n",
       "  '2013-14': 40,\n",
       "  '2014-15': 38},\n",
       " {'concentration': 'Philosophy',\n",
       "  '2010-11': 22,\n",
       "  '2011-12': 28,\n",
       "  '2012-13': 21,\n",
       "  '2013-14': 24,\n",
       "  '2014-15': 24},\n",
       " {'concentration': 'Physics',\n",
       "  '2010-11': 36,\n",
       "  '2011-12': 35,\n",
       "  '2012-13': 37,\n",
       "  '2013-14': 23,\n",
       "  '2014-15': 41},\n",
       " {'concentration': 'Psychology',\n",
       "  '2010-11': 93,\n",
       "  '2011-12': 88,\n",
       "  '2012-13': 100,\n",
       "  '2013-14': 89,\n",
       "  '2014-15': 93},\n",
       " {'concentration': 'Romance Languages and Literatures',\n",
       "  '2010-11': 26,\n",
       "  '2011-12': 18,\n",
       "  '2012-13': 15,\n",
       "  '2013-14': 15,\n",
       "  '2014-15': 15},\n",
       " {'concentration': 'Sanskrit and Indian Studies',\n",
       "  '2010-11': 1,\n",
       "  '2011-12': 0,\n",
       "  '2012-13': 0,\n",
       "  '2013-14': 0,\n",
       "  '2014-15': 0},\n",
       " {'concentration': 'Slavic Languages and Literatures',\n",
       "  '2010-11': 7,\n",
       "  '2011-12': 4,\n",
       "  '2012-13': 4,\n",
       "  '2013-14': 3,\n",
       "  '2014-15': 0},\n",
       " {'concentration': 'Social Studies',\n",
       "  '2010-11': 86,\n",
       "  '2011-12': 85,\n",
       "  '2012-13': 93,\n",
       "  '2013-14': 98,\n",
       "  '2014-15': 83},\n",
       " {'concentration': 'Sociology',\n",
       "  '2010-11': 71,\n",
       "  '2011-12': 60,\n",
       "  '2012-13': 62,\n",
       "  '2013-14': 52,\n",
       "  '2014-15': 49},\n",
       " {'concentration': 'South Asian Studies',\n",
       "  '2010-11': 0,\n",
       "  '2011-12': 0,\n",
       "  '2012-13': 2,\n",
       "  '2013-14': 4,\n",
       "  '2014-15': 2},\n",
       " {'concentration': 'Statistics',\n",
       "  '2010-11': 13,\n",
       "  '2011-12': 14,\n",
       "  '2012-13': 23,\n",
       "  '2013-14': 36,\n",
       "  '2014-15': 43},\n",
       " {'concentration': 'Studies of Women, Gender, and Sexuality',\n",
       "  '2010-11': 8,\n",
       "  '2011-12': 10,\n",
       "  '2012-13': 11,\n",
       "  '2013-14': 14,\n",
       "  '2014-15': 13},\n",
       " {'concentration': 'Visual and Environmental Studies',\n",
       "  '2010-11': 26,\n",
       "  '2011-12': 28,\n",
       "  '2012-13': 21,\n",
       "  '2013-14': 28,\n",
       "  '2014-15': 16}]"
      ]
     },
     "execution_count": 16,
     "metadata": {},
     "output_type": "execute_result"
    }
   ],
   "source": [
    "# That's better! Let's clean all the concentrations, then\n",
    "clean_concentration_data = [clean_concentration(c) for c in concentration_data]\n",
    "\n",
    "clean_concentration_data"
   ]
  },
  {
   "cell_type": "code",
   "execution_count": 17,
   "metadata": {},
   "outputs": [
    {
     "data": {
      "text/plain": [
       "{'concentration': 'Computer Science',\n",
       " '2010-11': 36,\n",
       " '2011-12': 36,\n",
       " '2012-13': 52,\n",
       " '2013-14': 89,\n",
       " '2014-15': 98}"
      ]
     },
     "execution_count": 17,
     "metadata": {},
     "output_type": "execute_result"
    }
   ],
   "source": [
    "# Let's see how many concentrators Computer Science added from 2010-2015.\n",
    "# This is a trick to filter a list\n",
    "computer_science = [c for c in clean_concentration_data if c['concentration'] == 'Computer Science'][0]\n",
    "computer_science"
   ]
  },
  {
   "cell_type": "code",
   "execution_count": 18,
   "metadata": {},
   "outputs": [],
   "source": [
    "#####\n",
    "# Now it's your turn to start working with the data!\n",
    "#####"
   ]
  },
  {
   "cell_type": "code",
   "execution_count": 19,
   "metadata": {},
   "outputs": [
    {
     "data": {
      "text/plain": [
       "'CS added 62 concentrators, for a growth rate of 172.22222222222223 percent!'"
      ]
     },
     "execution_count": 19,
     "metadata": {},
     "output_type": "execute_result"
    }
   ],
   "source": [
    "# Calculate the growth in CS concentrators from 2010-11 to 2014-15. \n",
    "new_cs_concentrators = computer_science['2014-15'] - computer_science['2010-11']\n",
    "growth_percent = float(new_cs_concentrators) / computer_science['2010-11'] * 100\n",
    "\n",
    "\"CS added {} concentrators, for a growth rate of {} percent!\".format(new_cs_concentrators, growth_percent)"
   ]
  },
  {
   "cell_type": "code",
   "execution_count": 20,
   "metadata": {},
   "outputs": [
    {
     "name": "stdout",
     "output_type": "stream",
     "text": [
      "African and African American Studies added 4 concentrators, for a growth rate of 66.66666666666666 percent!\n",
      "Anthropology added -12 concentrators, for a growth rate of -30.76923076923077 percent!\n",
      "Applied Mathematics added 32 concentrators, for a growth rate of 54.23728813559322 percent!\n",
      "Astrophysics added 5 concentrators, for a growth rate of 83.33333333333334 percent!\n",
      "Biochemical Sciences added -2 concentrators, for a growth rate of -100.0 percent!\n",
      "Biomedical Engineering added 11 concentrators, for a growth rate of 275.0 percent!\n",
      "Chemical and Physical Biology added 3 concentrators, for a growth rate of 20.0 percent!\n",
      "Chemistry added 1 concentrators, for a growth rate of 2.941176470588235 percent!\n",
      "Chemistry and Physics added -4 concentrators, for a growth rate of -36.36363636363637 percent!\n",
      "Classics added 3 concentrators, for a growth rate of 17.647058823529413 percent!\n",
      "Comparative Literature added -5 concentrators, for a growth rate of -33.33333333333333 percent!\n",
      "Comparative Study of Religion added -7 concentrators, for a growth rate of -50.0 percent!\n",
      "Computer Science added 62 concentrators, for a growth rate of 172.22222222222223 percent!\n",
      "Earth and Planetary Sciences added 2 concentrators, for a growth rate of 40.0 percent!\n",
      "East Asian Studies added 7 concentrators, for a growth rate of 38.88888888888889 percent!\n",
      "Economics added -26 concentrators, for a growth rate of -12.440191387559809 percent!\n",
      "Electrical Engineering started with 0 concentrators; the growth rate is undefined.\n",
      "Engineering Sciences added -5 concentrators, for a growth rate of -13.157894736842104 percent!\n",
      "English added -23 concentrators, for a growth rate of -28.39506172839506 percent!\n",
      "Environmental Science and Public Policy added -9 concentrators, for a growth rate of -47.368421052631575 percent!\n",
      "Folklore and Mythology added -3 concentrators, for a growth rate of -75.0 percent!\n",
      "Germanic Languages and Literatures added -2 concentrators, for a growth rate of -40.0 percent!\n",
      "Government added -35 concentrators, for a growth rate of -19.12568306010929 percent!\n",
      "History added -14 concentrators, for a growth rate of -21.875 percent!\n",
      "History and Literature added -11 concentrators, for a growth rate of -18.96551724137931 percent!\n",
      "History and Science added -7 concentrators, for a growth rate of -14.893617021276595 percent!\n",
      "History of Art and Architecture added 4 concentrators, for a growth rate of 16.0 percent!\n",
      "Human Developmental and Regenerative Biology started with 0 concentrators; the growth rate is undefined.\n",
      "Human Evolutionary Biology added 3 concentrators, for a growth rate of 7.317073170731707 percent!\n",
      "Integrative Biology started with 0 concentrators; the growth rate is undefined.\n",
      "Linguistics added -6 concentrators, for a growth rate of -46.15384615384615 percent!\n",
      "Mathematics added 4 concentrators, for a growth rate of 12.121212121212121 percent!\n",
      "Mechanical Engineering started with 0 concentrators; the growth rate is undefined.\n",
      "Molecular and Cellular Biology added -33 concentrators, for a growth rate of -52.38095238095239 percent!\n",
      "Music added -2 concentrators, for a growth rate of -25.0 percent!\n",
      "Near Eastern Languages and Civilizations added -4 concentrators, for a growth rate of -57.14285714285714 percent!\n",
      "Neurobiology added -2 concentrators, for a growth rate of -2.898550724637681 percent!\n",
      "Organismic and Evolutionary Biology added 5 concentrators, for a growth rate of 15.151515151515152 percent!\n",
      "Philosophy added 2 concentrators, for a growth rate of 9.090909090909092 percent!\n",
      "Physics added 5 concentrators, for a growth rate of 13.88888888888889 percent!\n",
      "Psychology started with 0 concentrators; the growth rate is undefined.\n",
      "Romance Languages and Literatures added -11 concentrators, for a growth rate of -42.30769230769231 percent!\n",
      "Sanskrit and Indian Studies added -1 concentrators, for a growth rate of -100.0 percent!\n",
      "Slavic Languages and Literatures added -7 concentrators, for a growth rate of -100.0 percent!\n",
      "Social Studies added -3 concentrators, for a growth rate of -3.488372093023256 percent!\n",
      "Sociology added -22 concentrators, for a growth rate of -30.985915492957744 percent!\n",
      "South Asian Studies started with 0 concentrators; the growth rate is undefined.\n",
      "Statistics added 30 concentrators, for a growth rate of 230.76923076923075 percent!\n",
      "Studies of Women, Gender, and Sexuality added 5 concentrators, for a growth rate of 62.5 percent!\n",
      "Visual and Environmental Studies added -10 concentrators, for a growth rate of -38.46153846153847 percent!\n"
     ]
    }
   ],
   "source": [
    "# Hey, that was cool. Why don't we do that for every concentration?\n",
    "\n",
    "def get_growth(concentration):\n",
    "    old = concentration['2010-11']\n",
    "    new = concentration['2014-15']\n",
    "    if old != 0:\n",
    "        diff = float(new - old)\n",
    "        return diff / old * 100\n",
    "\n",
    "def summary_for_concentration(concentration):\n",
    "    rate = get_growth(concentration)\n",
    "    name = concentration[\"concentration\"]\n",
    "    if rate:\n",
    "        return \"{} added {} concentrators, for a growth rate of {} percent!\".format(name, concentration['2014-15'] - concentration['2010-11'], rate)\n",
    "    else:\n",
    "        return \"{} started with 0 concentrators; the growth rate is undefined.\".format(name)\n",
    "\n",
    "for c in clean_concentration_data:\n",
    "    print(summary_for_concentration(c))"
   ]
  },
  {
   "cell_type": "code",
   "execution_count": 21,
   "metadata": {},
   "outputs": [
    {
     "data": {
      "text/plain": [
       "[(183, 'Economics'),\n",
       " (148, 'Government'),\n",
       " (98, 'Computer Science'),\n",
       " (93, 'Psychology'),\n",
       " (91, 'Applied Mathematics')]"
      ]
     },
     "execution_count": 21,
     "metadata": {},
     "output_type": "execute_result"
    }
   ],
   "source": [
    "# Things to do next:\n",
    "# - Print the 5 largest concentrations.\n",
    "\n",
    "def sort_size(data):\n",
    "    final = []\n",
    "    for concentration in data:\n",
    "        current_size = concentration[\"2014-15\"]\n",
    "        name = concentration[\"concentration\"]\n",
    "        final.append((current_size, name))\n",
    "    final.sort(reverse=True)\n",
    "    return final\n",
    "\n",
    "largest_size_concentrations = sort_size(clean_concentration_data)[:5]\n",
    "\n",
    "largest_size_concentrations"
   ]
  },
  {
   "cell_type": "code",
   "execution_count": 22,
   "metadata": {},
   "outputs": [
    {
     "data": {
      "text/plain": [
       "[(275.0, 'Biomedical Engineering'),\n",
       " (230.76923076923075, 'Statistics'),\n",
       " (172.22222222222223, 'Computer Science'),\n",
       " (83.33333333333334, 'Astrophysics'),\n",
       " (66.66666666666666, 'African and African American Studies')]"
      ]
     },
     "execution_count": 22,
     "metadata": {},
     "output_type": "execute_result"
    }
   ],
   "source": [
    "# - Print the 5 fastest-growing concentrations.\n",
    "\n",
    "def sort_growth(data):\n",
    "    final = []\n",
    "    for concentration in data:\n",
    "        name = concentration[\"concentration\"]\n",
    "        rate = get_growth(concentration)\n",
    "        if rate:\n",
    "            final.append((rate, name))\n",
    "    final.sort(reverse=True)\n",
    "    return final\n",
    "\n",
    "largest_growing_concentrations = sort_growth(clean_concentration_data)[:5]\n",
    "\n",
    "largest_growing_concentrations"
   ]
  },
  {
   "cell_type": "code",
   "execution_count": 23,
   "metadata": {},
   "outputs": [
    {
     "data": {
      "text/plain": [
       "[{'concentration': 'African and African American Studies',\n",
       "  '2010-11': 6,\n",
       "  '2011-12': 7,\n",
       "  '2012-13': 11,\n",
       "  '2013-14': 10,\n",
       "  '2014-15': 10,\n",
       "  'rate': 66.66666666666666},\n",
       " {'concentration': 'Anthropology',\n",
       "  '2010-11': 39,\n",
       "  '2011-12': 34,\n",
       "  '2012-13': 29,\n",
       "  '2013-14': 15,\n",
       "  '2014-15': 27,\n",
       "  'rate': -30.76923076923077},\n",
       " {'concentration': 'Applied Mathematics',\n",
       "  '2010-11': 59,\n",
       "  '2011-12': 49,\n",
       "  '2012-13': 66,\n",
       "  '2013-14': 65,\n",
       "  '2014-15': 91,\n",
       "  'rate': 54.23728813559322},\n",
       " {'concentration': 'Astrophysics',\n",
       "  '2010-11': 6,\n",
       "  '2011-12': 14,\n",
       "  '2012-13': 3,\n",
       "  '2013-14': 8,\n",
       "  '2014-15': 11,\n",
       "  'rate': 83.33333333333334},\n",
       " {'concentration': 'Biochemical Sciences',\n",
       "  '2010-11': 2,\n",
       "  '2011-12': 1,\n",
       "  '2012-13': 2,\n",
       "  '2013-14': 0,\n",
       "  '2014-15': 0,\n",
       "  'rate': -100.0},\n",
       " {'concentration': 'Biomedical Engineering',\n",
       "  '2010-11': 4,\n",
       "  '2011-12': 11,\n",
       "  '2012-13': 11,\n",
       "  '2013-14': 17,\n",
       "  '2014-15': 15,\n",
       "  'rate': 275.0},\n",
       " {'concentration': 'Chemical and Physical Biology',\n",
       "  '2010-11': 15,\n",
       "  '2011-12': 16,\n",
       "  '2012-13': 15,\n",
       "  '2013-14': 14,\n",
       "  '2014-15': 18,\n",
       "  'rate': 20.0},\n",
       " {'concentration': 'Chemistry',\n",
       "  '2010-11': 34,\n",
       "  '2011-12': 21,\n",
       "  '2012-13': 25,\n",
       "  '2013-14': 32,\n",
       "  '2014-15': 35,\n",
       "  'rate': 2.941176470588235},\n",
       " {'concentration': 'Chemistry and Physics',\n",
       "  '2010-11': 11,\n",
       "  '2011-12': 16,\n",
       "  '2012-13': 14,\n",
       "  '2013-14': 18,\n",
       "  '2014-15': 7,\n",
       "  'rate': -36.36363636363637},\n",
       " {'concentration': 'Classics',\n",
       "  '2010-11': 17,\n",
       "  '2011-12': 18,\n",
       "  '2012-13': 9,\n",
       "  '2013-14': 12,\n",
       "  '2014-15': 20,\n",
       "  'rate': 17.647058823529413},\n",
       " {'concentration': 'Comparative Literature',\n",
       "  '2010-11': 15,\n",
       "  '2011-12': 9,\n",
       "  '2012-13': 19,\n",
       "  '2013-14': 13,\n",
       "  '2014-15': 10,\n",
       "  'rate': -33.33333333333333},\n",
       " {'concentration': 'Comparative Study of Religion',\n",
       "  '2010-11': 14,\n",
       "  '2011-12': 9,\n",
       "  '2012-13': 12,\n",
       "  '2013-14': 8,\n",
       "  '2014-15': 7,\n",
       "  'rate': -50.0},\n",
       " {'concentration': 'Computer Science',\n",
       "  '2010-11': 36,\n",
       "  '2011-12': 36,\n",
       "  '2012-13': 52,\n",
       "  '2013-14': 89,\n",
       "  '2014-15': 98,\n",
       "  'rate': 172.22222222222223},\n",
       " {'concentration': 'Earth and Planetary Sciences',\n",
       "  '2010-11': 5,\n",
       "  '2011-12': 10,\n",
       "  '2012-13': 9,\n",
       "  '2013-14': 7,\n",
       "  '2014-15': 7,\n",
       "  'rate': 40.0},\n",
       " {'concentration': 'East Asian Studies',\n",
       "  '2010-11': 18,\n",
       "  '2011-12': 14,\n",
       "  '2012-13': 21,\n",
       "  '2013-14': 23,\n",
       "  '2014-15': 25,\n",
       "  'rate': 38.88888888888889},\n",
       " {'concentration': 'Economics',\n",
       "  '2010-11': 209,\n",
       "  '2011-12': 213,\n",
       "  '2012-13': 221,\n",
       "  '2013-14': 190,\n",
       "  '2014-15': 183,\n",
       "  'rate': -12.440191387559809},\n",
       " {'concentration': 'Electrical Engineering',\n",
       "  '2010-11': 0,\n",
       "  '2011-12': 0,\n",
       "  '2012-13': 8,\n",
       "  '2013-14': 6,\n",
       "  '2014-15': 10,\n",
       "  'rate': None},\n",
       " {'concentration': 'Engineering Sciences',\n",
       "  '2010-11': 38,\n",
       "  '2011-12': 49,\n",
       "  '2012-13': 45,\n",
       "  '2013-14': 40,\n",
       "  '2014-15': 33,\n",
       "  'rate': -13.157894736842104},\n",
       " {'concentration': 'English',\n",
       "  '2010-11': 81,\n",
       "  '2011-12': 67,\n",
       "  '2012-13': 72,\n",
       "  '2013-14': 50,\n",
       "  '2014-15': 58,\n",
       "  'rate': -28.39506172839506},\n",
       " {'concentration': 'Environmental Science and Public Policy',\n",
       "  '2010-11': 19,\n",
       "  '2011-12': 9,\n",
       "  '2012-13': 21,\n",
       "  '2013-14': 13,\n",
       "  '2014-15': 10,\n",
       "  'rate': -47.368421052631575},\n",
       " {'concentration': 'Folklore and Mythology',\n",
       "  '2010-11': 4,\n",
       "  '2011-12': 5,\n",
       "  '2012-13': 2,\n",
       "  '2013-14': 8,\n",
       "  '2014-15': 1,\n",
       "  'rate': -75.0},\n",
       " {'concentration': 'Germanic Languages and Literatures',\n",
       "  '2010-11': 5,\n",
       "  '2011-12': 2,\n",
       "  '2012-13': 1,\n",
       "  '2013-14': 1,\n",
       "  '2014-15': 3,\n",
       "  'rate': -40.0},\n",
       " {'concentration': 'Government',\n",
       "  '2010-11': 183,\n",
       "  '2011-12': 180,\n",
       "  '2012-13': 145,\n",
       "  '2013-14': 202,\n",
       "  '2014-15': 148,\n",
       "  'rate': -19.12568306010929},\n",
       " {'concentration': 'History',\n",
       "  '2010-11': 64,\n",
       "  '2011-12': 65,\n",
       "  '2012-13': 63,\n",
       "  '2013-14': 63,\n",
       "  '2014-15': 50,\n",
       "  'rate': -21.875},\n",
       " {'concentration': 'History and Literature',\n",
       "  '2010-11': 58,\n",
       "  '2011-12': 46,\n",
       "  '2012-13': 43,\n",
       "  '2013-14': 50,\n",
       "  '2014-15': 47,\n",
       "  'rate': -18.96551724137931},\n",
       " {'concentration': 'History and Science',\n",
       "  '2010-11': 47,\n",
       "  '2011-12': 43,\n",
       "  '2012-13': 47,\n",
       "  '2013-14': 38,\n",
       "  '2014-15': 40,\n",
       "  'rate': -14.893617021276595},\n",
       " {'concentration': 'History of Art and Architecture',\n",
       "  '2010-11': 25,\n",
       "  '2011-12': 22,\n",
       "  '2012-13': 23,\n",
       "  '2013-14': 20,\n",
       "  '2014-15': 29,\n",
       "  'rate': 16.0},\n",
       " {'concentration': 'Human Developmental and Regenerative Biology',\n",
       "  '2010-11': 0,\n",
       "  '2011-12': 41,\n",
       "  '2012-13': 45,\n",
       "  '2013-14': 42,\n",
       "  '2014-15': 53,\n",
       "  'rate': None},\n",
       " {'concentration': 'Human Evolutionary Biology',\n",
       "  '2010-11': 41,\n",
       "  '2011-12': 38,\n",
       "  '2012-13': 48,\n",
       "  '2013-14': 58,\n",
       "  '2014-15': 44,\n",
       "  'rate': 7.317073170731707},\n",
       " {'concentration': 'Integrative Biology',\n",
       "  '2010-11': 0,\n",
       "  '2011-12': 0,\n",
       "  '2012-13': 0,\n",
       "  '2013-14': 0,\n",
       "  '2014-15': 4,\n",
       "  'rate': None},\n",
       " {'concentration': 'Linguistics',\n",
       "  '2010-11': 13,\n",
       "  '2011-12': 10,\n",
       "  '2012-13': 13,\n",
       "  '2013-14': 12,\n",
       "  '2014-15': 7,\n",
       "  'rate': -46.15384615384615},\n",
       " {'concentration': 'Mathematics',\n",
       "  '2010-11': 33,\n",
       "  '2011-12': 46,\n",
       "  '2012-13': 47,\n",
       "  '2013-14': 41,\n",
       "  '2014-15': 37,\n",
       "  'rate': 12.121212121212121},\n",
       " {'concentration': 'Mechanical Engineering',\n",
       "  '2010-11': 0,\n",
       "  '2011-12': 0,\n",
       "  '2012-13': 0,\n",
       "  '2013-14': 14,\n",
       "  '2014-15': 14,\n",
       "  'rate': None},\n",
       " {'concentration': 'Molecular and Cellular Biology',\n",
       "  '2010-11': 63,\n",
       "  '2011-12': 58,\n",
       "  '2012-13': 33,\n",
       "  '2013-14': 28,\n",
       "  '2014-15': 30,\n",
       "  'rate': -52.38095238095239},\n",
       " {'concentration': 'Music',\n",
       "  '2010-11': 8,\n",
       "  '2011-12': 13,\n",
       "  '2012-13': 5,\n",
       "  '2013-14': 6,\n",
       "  '2014-15': 6,\n",
       "  'rate': -25.0},\n",
       " {'concentration': 'Near Eastern Languages and Civilizations',\n",
       "  '2010-11': 7,\n",
       "  '2011-12': 2,\n",
       "  '2012-13': 9,\n",
       "  '2013-14': 10,\n",
       "  '2014-15': 3,\n",
       "  'rate': -57.14285714285714},\n",
       " {'concentration': 'Neurobiology',\n",
       "  '2010-11': 69,\n",
       "  '2011-12': 85,\n",
       "  '2012-13': 79,\n",
       "  '2013-14': 78,\n",
       "  '2014-15': 67,\n",
       "  'rate': -2.898550724637681},\n",
       " {'concentration': 'Organismic and Evolutionary Biology',\n",
       "  '2010-11': 33,\n",
       "  '2011-12': 36,\n",
       "  '2012-13': 45,\n",
       "  '2013-14': 40,\n",
       "  '2014-15': 38,\n",
       "  'rate': 15.151515151515152},\n",
       " {'concentration': 'Philosophy',\n",
       "  '2010-11': 22,\n",
       "  '2011-12': 28,\n",
       "  '2012-13': 21,\n",
       "  '2013-14': 24,\n",
       "  '2014-15': 24,\n",
       "  'rate': 9.090909090909092},\n",
       " {'concentration': 'Physics',\n",
       "  '2010-11': 36,\n",
       "  '2011-12': 35,\n",
       "  '2012-13': 37,\n",
       "  '2013-14': 23,\n",
       "  '2014-15': 41,\n",
       "  'rate': 13.88888888888889},\n",
       " {'concentration': 'Psychology',\n",
       "  '2010-11': 93,\n",
       "  '2011-12': 88,\n",
       "  '2012-13': 100,\n",
       "  '2013-14': 89,\n",
       "  '2014-15': 93,\n",
       "  'rate': 0.0},\n",
       " {'concentration': 'Romance Languages and Literatures',\n",
       "  '2010-11': 26,\n",
       "  '2011-12': 18,\n",
       "  '2012-13': 15,\n",
       "  '2013-14': 15,\n",
       "  '2014-15': 15,\n",
       "  'rate': -42.30769230769231},\n",
       " {'concentration': 'Sanskrit and Indian Studies',\n",
       "  '2010-11': 1,\n",
       "  '2011-12': 0,\n",
       "  '2012-13': 0,\n",
       "  '2013-14': 0,\n",
       "  '2014-15': 0,\n",
       "  'rate': -100.0},\n",
       " {'concentration': 'Slavic Languages and Literatures',\n",
       "  '2010-11': 7,\n",
       "  '2011-12': 4,\n",
       "  '2012-13': 4,\n",
       "  '2013-14': 3,\n",
       "  '2014-15': 0,\n",
       "  'rate': -100.0},\n",
       " {'concentration': 'Social Studies',\n",
       "  '2010-11': 86,\n",
       "  '2011-12': 85,\n",
       "  '2012-13': 93,\n",
       "  '2013-14': 98,\n",
       "  '2014-15': 83,\n",
       "  'rate': -3.488372093023256},\n",
       " {'concentration': 'Sociology',\n",
       "  '2010-11': 71,\n",
       "  '2011-12': 60,\n",
       "  '2012-13': 62,\n",
       "  '2013-14': 52,\n",
       "  '2014-15': 49,\n",
       "  'rate': -30.985915492957744},\n",
       " {'concentration': 'South Asian Studies',\n",
       "  '2010-11': 0,\n",
       "  '2011-12': 0,\n",
       "  '2012-13': 2,\n",
       "  '2013-14': 4,\n",
       "  '2014-15': 2,\n",
       "  'rate': None},\n",
       " {'concentration': 'Statistics',\n",
       "  '2010-11': 13,\n",
       "  '2011-12': 14,\n",
       "  '2012-13': 23,\n",
       "  '2013-14': 36,\n",
       "  '2014-15': 43,\n",
       "  'rate': 230.76923076923075},\n",
       " {'concentration': 'Studies of Women, Gender, and Sexuality',\n",
       "  '2010-11': 8,\n",
       "  '2011-12': 10,\n",
       "  '2012-13': 11,\n",
       "  '2013-14': 14,\n",
       "  '2014-15': 13,\n",
       "  'rate': 62.5},\n",
       " {'concentration': 'Visual and Environmental Studies',\n",
       "  '2010-11': 26,\n",
       "  '2011-12': 28,\n",
       "  '2012-13': 21,\n",
       "  '2013-14': 28,\n",
       "  '2014-15': 16,\n",
       "  'rate': -38.46153846153847}]"
      ]
     },
     "execution_count": 23,
     "metadata": {},
     "output_type": "execute_result"
    }
   ],
   "source": [
    "# - Add the growth rate to each concentration's dict.\n",
    "\n",
    "for concentration in clean_concentration_data:\n",
    "    concentration[\"rate\"] = get_growth(concentration)\n",
    "    \n",
    "clean_concentration_data"
   ]
  },
  {
   "cell_type": "code",
   "execution_count": 24,
   "metadata": {},
   "outputs": [],
   "source": [
    "# - If you wanted to create a new CSV with the growth rate data, you could use the code below:\n",
    "\n",
    "with open('concentration-growth.csv', 'w') as csvfile:\n",
    "    fieldnames = ['concentration', '2010-11', '2011-12', '2012-13','2013-14','2014-15', 'rate']\n",
    "    writer = csv.DictWriter(csvfile, fieldnames=fieldnames)\n",
    "    writer.writeheader()\n",
    "    writer.writerows(clean_concentration_data)"
   ]
  },
  {
   "cell_type": "code",
   "execution_count": 27,
   "metadata": {},
   "outputs": [
    {
     "data": {
      "image/png": "[encoded data removed]",
      "text/plain": [
       "<Figure size 432x288 with 1 Axes>"
      ]
     },
     "metadata": {
      "needs_background": "light"
     },
     "output_type": "display_data"
    },
    {
     "data": {
      "image/png": "[encoded data removed]",
      "text/plain": [
       "<Figure size 432x288 with 1 Axes>"
      ]
     },
     "metadata": {
      "needs_background": "light"
     },
     "output_type": "display_data"
    },
    {
     "data": {
      "image/png": "[encoded data removed]",
      "text/plain": [
       "<Figure size 432x288 with 1 Axes>"
      ]
     },
     "metadata": {
      "needs_background": "light"
     },
     "output_type": "display_data"
    },
    {
     "data": {
      "image/png": "[encoded data removed]",
      "text/plain": [
       "<Figure size 432x288 with 1 Axes>"
      ]
     },
     "metadata": {
      "needs_background": "light"
     },
     "output_type": "display_data"
    },
    {
     "data": {
      "image/png": "[encoded data removed]",
      "text/plain": [
       "<Figure size 432x288 with 1 Axes>"
      ]
     },
     "metadata": {
      "needs_background": "light"
     },
     "output_type": "display_data"
    },
    {
     "data": {
      "image/png": "[encoded data removed]",
      "text/plain": [
       "<Figure size 432x288 with 1 Axes>"
      ]
     },
     "metadata": {
      "needs_background": "light"
     },
     "output_type": "display_data"
    },
    {
     "data": {
      "image/png": "[encoded data removed]",
      "text/plain": [
       "<Figure size 432x288 with 1 Axes>"
      ]
     },
     "metadata": {
      "needs_background": "light"
     },
     "output_type": "display_data"
    },
    {
     "data": {
      "image/png": "[encoded data removed]",
      "text/plain": [
       "<Figure size 432x288 with 1 Axes>"
      ]
     },
     "metadata": {
      "needs_background": "light"
     },
     "output_type": "display_data"
    },
    {
     "data": {
      "image/png": "[encoded data removed]",
      "text/plain": [
       "<Figure size 432x288 with 1 Axes>"
      ]
     },
     "metadata": {
      "needs_background": "light"
     },
     "output_type": "display_data"
    },
    {
     "data": {
      "image/png": "[encoded data removed]",
      "text/plain": [
       "<Figure size 432x288 with 1 Axes>"
      ]
     },
     "metadata": {
      "needs_background": "light"
     },
     "output_type": "display_data"
    },
    {
     "data": {
      "image/png": "[encoded data removed]",
      "text/plain": [
       "<Figure size 432x288 with 1 Axes>"
      ]
     },
     "metadata": {
      "needs_background": "light"
     },
     "output_type": "display_data"
    },
    {
     "data": {
      "image/png": "[encoded data removed]",
      "text/plain": [
       "<Figure size 432x288 with 1 Axes>"
      ]
     },
     "metadata": {
      "needs_background": "light"
     },
     "output_type": "display_data"
    },
    {
     "data": {
      "image/png": "[encoded data removed]",
      "text/plain": [
       "<Figure size 432x288 with 1 Axes>"
      ]
     },
     "metadata": {
      "needs_background": "light"
     },
     "output_type": "display_data"
    },
    {
     "data": {
      "image/png": "[encoded data removed]",
      "text/plain": [
       "<Figure size 432x288 with 1 Axes>"
      ]
     },
     "metadata": {
      "needs_background": "light"
     },
     "output_type": "display_data"
    },
    {
     "data": {
      "image/png": "[encoded data removed]",
      "text/plain": [
       "<Figure size 432x288 with 1 Axes>"
      ]
     },
     "metadata": {
      "needs_background": "light"
     },
     "output_type": "display_data"
    },
    {
     "data": {
      "image/png": "[encoded data removed]",
      "text/plain": [
       "<Figure size 432x288 with 1 Axes>"
      ]
     },
     "metadata": {
      "needs_background": "light"
     },
     "output_type": "display_data"
    },
    {
     "ename": "TypeError",
     "evalue": "'>' not supported between instances of 'NoneType' and 'int'",
     "output_type": "error",
     "traceback": [
      "\u001b[0;31m---------------------------------------------------------------------------\u001b[0m",
      "\u001b[0;31mTypeError\u001b[0m                                 Traceback (most recent call last)",
      "\u001b[0;32m<ipython-input-27-b43bd2162080>\u001b[0m in \u001b[0;36m<module>\u001b[0;34m\u001b[0m\n\u001b[1;32m     18\u001b[0m \u001b[0;34m\u001b[0m\u001b[0m\n\u001b[1;32m     19\u001b[0m \u001b[0;32mfor\u001b[0m \u001b[0mc\u001b[0m \u001b[0;32min\u001b[0m \u001b[0mclean_concentration_data\u001b[0m\u001b[0;34m:\u001b[0m\u001b[0;34m\u001b[0m\u001b[0;34m\u001b[0m\u001b[0m\n\u001b[0;32m---> 20\u001b[0;31m     \u001b[0mgraph_concentration\u001b[0m\u001b[0;34m(\u001b[0m\u001b[0mc\u001b[0m\u001b[0;34m)\u001b[0m\u001b[0;34m\u001b[0m\u001b[0;34m\u001b[0m\u001b[0m\n\u001b[0m",
      "\u001b[0;32m<ipython-input-27-b43bd2162080>\u001b[0m in \u001b[0;36mgraph_concentration\u001b[0;34m(concentration)\u001b[0m\n\u001b[1;32m     13\u001b[0m     \u001b[0mplt\u001b[0m\u001b[0;34m.\u001b[0m\u001b[0mplot\u001b[0m\u001b[0;34m(\u001b[0m\u001b[0mrange\u001b[0m\u001b[0;34m(\u001b[0m\u001b[0;36m6\u001b[0m\u001b[0;34m)\u001b[0m\u001b[0;34m,\u001b[0m \u001b[0mnumbers\u001b[0m\u001b[0;34m,\u001b[0m \u001b[0;34m'r'\u001b[0m\u001b[0;34m)\u001b[0m\u001b[0;34m\u001b[0m\u001b[0;34m\u001b[0m\u001b[0m\n\u001b[1;32m     14\u001b[0m     \u001b[0mplt\u001b[0m\u001b[0;34m.\u001b[0m\u001b[0mtitle\u001b[0m\u001b[0;34m(\u001b[0m\u001b[0mconcentration\u001b[0m\u001b[0;34m[\u001b[0m\u001b[0;34m\"concentration\"\u001b[0m\u001b[0;34m]\u001b[0m\u001b[0;34m)\u001b[0m\u001b[0;34m\u001b[0m\u001b[0;34m\u001b[0m\u001b[0m\n\u001b[0;32m---> 15\u001b[0;31m     \u001b[0mplt\u001b[0m\u001b[0;34m.\u001b[0m\u001b[0maxis\u001b[0m\u001b[0;34m(\u001b[0m\u001b[0;34m[\u001b[0m\u001b[0;36m0\u001b[0m\u001b[0;34m,\u001b[0m \u001b[0;36m4\u001b[0m\u001b[0;34m,\u001b[0m \u001b[0;36m0\u001b[0m\u001b[0;34m,\u001b[0m \u001b[0mmax\u001b[0m\u001b[0;34m(\u001b[0m\u001b[0mnumbers\u001b[0m\u001b[0;34m)\u001b[0m \u001b[0;34m+\u001b[0m \u001b[0;36m10\u001b[0m\u001b[0;34m]\u001b[0m\u001b[0;34m)\u001b[0m\u001b[0;34m\u001b[0m\u001b[0;34m\u001b[0m\u001b[0m\n\u001b[0m\u001b[1;32m     16\u001b[0m     \u001b[0mplt\u001b[0m\u001b[0;34m.\u001b[0m\u001b[0mxticks\u001b[0m\u001b[0;34m(\u001b[0m\u001b[0mrange\u001b[0m\u001b[0;34m(\u001b[0m\u001b[0;36m5\u001b[0m\u001b[0;34m)\u001b[0m\u001b[0;34m,\u001b[0m \u001b[0mlabels\u001b[0m\u001b[0;34m)\u001b[0m\u001b[0;34m\u001b[0m\u001b[0;34m\u001b[0m\u001b[0m\n\u001b[1;32m     17\u001b[0m     \u001b[0mplt\u001b[0m\u001b[0;34m.\u001b[0m\u001b[0mshow\u001b[0m\u001b[0;34m(\u001b[0m\u001b[0;34m)\u001b[0m\u001b[0;34m\u001b[0m\u001b[0;34m\u001b[0m\u001b[0m\n",
      "\u001b[0;31mTypeError\u001b[0m: '>' not supported between instances of 'NoneType' and 'int'"
     ]
    },
    {
     "data": {
      "image/png": "[encoded data removed]",
      "text/plain": [
       "<Figure size 432x288 with 1 Axes>"
      ]
     },
     "metadata": {
      "needs_background": "light"
     },
     "output_type": "display_data"
    }
   ],
   "source": [
    "# - You can also use matplotlib to make graphs. Here, we graph the growth of every concentration in the dataset.\n",
    "\n",
    "import matplotlib.pyplot as plt\n",
    "\n",
    "def graph_concentration(concentration):\n",
    "    lst = []\n",
    "    for key in concentration:\n",
    "        if key != \"concentration\":\n",
    "            lst.append((key, concentration[key]))\n",
    "    lst.sort()\n",
    "    labels = [x[0] for x in lst]\n",
    "    numbers = [x[1] for x in lst]\n",
    "    plt.plot(range(6), numbers, 'r')\n",
    "    plt.title(concentration[\"concentration\"])\n",
    "    plt.axis([0, 4, 0, max(numbers) + 10])\n",
    "    plt.xticks(range(5), labels)\n",
    "    plt.show()\n",
    "\n",
    "for c in clean_concentration_data:\n",
    "    graph_concentration(c)\n"
   ]
  },
  {
   "cell_type": "code",
   "execution_count": null,
   "metadata": {},
   "outputs": [],
   "source": []
  }
 ],
 "metadata": {
  "kernelspec": {
   "display_name": "Python 3",
   "language": "python",
   "name": "python3"
  },
  "language_info": {
   "codemirror_mode": {
    "name": "ipython",
    "version": 3
   },
   "file_extension": ".py",
   "mimetype": "text/x-python",
   "name": "python",
   "nbconvert_exporter": "python",
   "pygments_lexer": "ipython3",
   "version": "3.6.7"
  }
 },
 "nbformat": 4,
 "nbformat_minor": 2
}
