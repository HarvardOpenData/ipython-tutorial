{
 "cells": [
  {
   "cell_type": "code",
   "execution_count": null,
   "metadata": {
    "collapsed": true
   },
   "outputs": [],
   "source": [
    "# Welcome to the iPython notebook tutorial!"
   ]
  },
  {
   "cell_type": "code",
   "execution_count": null,
   "metadata": {},
   "outputs": [],
   "source": [
    "# You can write some Python code here and run it with Shift-Enter.\n",
    "# The result of your last line of code gets printed out,\n",
    "# so no more need for `print` statements!\n",
    "\n",
    "x = 5\n",
    "y = 3\n",
    "x + y"
   ]
  },
  {
   "cell_type": "code",
   "execution_count": null,
   "metadata": {},
   "outputs": [],
   "source": [
    "# iPython remembers the variables you've used before.\n",
    "x * y"
   ]
  },
  {
   "cell_type": "code",
   "execution_count": null,
   "metadata": {},
   "outputs": [],
   "source": [
    "# You can make functions too!\n",
    "\n",
    "def square(x):\n",
    "    return x * x\n",
    "\n",
    "square(12)"
   ]
  },
  {
   "cell_type": "code",
   "execution_count": null,
   "metadata": {
    "collapsed": true
   },
   "outputs": [],
   "source": [
    "# You can go back and edit a previous line, too.\n",
    "# Can you turn the previous function `square` into `cube`?"
   ]
  },
  {
   "cell_type": "code",
   "execution_count": null,
   "metadata": {
    "collapsed": true
   },
   "outputs": [],
   "source": [
    "# Let's play around with a real dataset."
   ]
  },
  {
   "cell_type": "code",
   "execution_count": null,
   "metadata": {
    "collapsed": true
   },
   "outputs": [],
   "source": [
    "# It's a best practice to import all your required packages up here.\n",
    "\n",
    "import csv"
   ]
  },
  {
   "cell_type": "code",
   "execution_count": null,
   "metadata": {},
   "outputs": [],
   "source": [
    "# This is a handy recipe for turning a CSV into a \n",
    "# list of dictionaries - which are like structs in C\n",
    "# or objects in JavaScript, if you're familiar with those.\n",
    "\n",
    "concentration_data = []\n",
    "\n",
    "with open('concentration-enrollment.csv') as csvfile:\n",
    "    reader = csv.DictReader(csvfile)\n",
    "    for row in reader:\n",
    "        print(row['concentration'])\n",
    "        # You can't just do `concentration_data = reader`\n",
    "        # because the `reader` object disappears once the file\n",
    "        # is read. Instead, you want to copy each row into\n",
    "        # a different list.\n",
    "        concentration_data.append(row)"
   ]
  },
  {
   "cell_type": "code",
   "execution_count": null,
   "metadata": {},
   "outputs": [],
   "source": [
    "# Let's see what we got\n",
    "concentration_data"
   ]
  },
  {
   "cell_type": "code",
   "execution_count": null,
   "metadata": {
    "collapsed": true
   },
   "outputs": [],
   "source": [
    "# We can now start crunching the numbers!\n",
    "\n",
    "# Let's just see what the first piece of data looks like\n",
    "# Each year corresponds with the number of concentrators in that concentration\n",
    "# in that year.\n",
    "aaas = concentration_data[0]"
   ]
  },
  {
   "cell_type": "code",
   "execution_count": null,
   "metadata": {},
   "outputs": [],
   "source": [
    "# Ew, it looks like the enrollment numbers are strings, not integers!\n",
    "# That makes it harder to run calculations.\n",
    "# Let's clean up this data.\n",
    "\n",
    "def clean_concentration(raw):\n",
    "    return dict([\n",
    "        ('concentration', raw['concentration']),\n",
    "        ('2010-11', int(raw['2010-11'])),\n",
    "        ('2011-12', int(raw['2011-12'])),\n",
    "        ('2012-13', int(raw['2012-13'])),\n",
    "        ('2013-14', int(raw['2013-14'])),\n",
    "        ('2014-15', int(raw['2014-15']))\n",
    "    ])\n",
    "\n",
    "clean_concentration(aaas)"
   ]
  },
  {
   "cell_type": "code",
   "execution_count": null,
   "metadata": {},
   "outputs": [],
   "source": [
    "# That's better! Let's clean all the concentrations, then\n",
    "clean_concentration_data = [clean_concentration(c) for c in concentration_data]\n",
    "\n",
    "clean_concentration_data[0]"
   ]
  },
  {
   "cell_type": "code",
   "execution_count": null,
   "metadata": {},
   "outputs": [],
   "source": [
    "# Let's see how many concentrators Computer Science added from 2010-2015.\n",
    "# This is a trick to filter a list\n",
    "computer_science = [c for c in clean_concentration_data if c['concentration'] == 'Computer Science'][0]\n",
    "computer_science"
   ]
  },
  {
   "cell_type": "code",
   "execution_count": null,
   "metadata": {
    "collapsed": true
   },
   "outputs": [],
   "source": [
    "#####\n",
    "# Now it's your turn to start working with the data!\n",
    "#####"
   ]
  },
  {
   "cell_type": "code",
   "execution_count": null,
   "metadata": {},
   "outputs": [],
   "source": [
    "# Calculate the growth in CS concentrators from 2010-11 to 2014-15. \n",
    "new_cs_concentrators = computer_science['2014-15'] - computer_science['2010-11']\n",
    "growth_percent = float(new_cs_concentrators) / computer_science['2010-11'] * 100\n",
    "\n",
    "\"CS added {} concentrators, for a growth rate of {} percent!\".format(new_cs_concentrators, growth_percent)"
   ]
  },
  {
   "cell_type": "code",
   "execution_count": null,
   "metadata": {},
   "outputs": [],
   "source": [
    "# Hey, that was cool. Why don't we do that for every concentration?\n",
    "\n",
    "def get_growth(concentration):\n",
    "    old = concentration['2010-11']\n",
    "    new = concentration['2014-15']\n",
    "    if old != 0:\n",
    "        diff = float(new - old)\n",
    "        return diff / old * 100\n",
    "\n",
    "def summary_for_concentration(concentration):\n",
    "    rate = get_growth(concentration)\n",
    "    name = concentration[\"concentration\"]\n",
    "    if rate:\n",
    "        return \"{} added {} concentrators, for a growth rate of {} percent!\".format(name, new_cs_concentrators, growth_percent)\n",
    "    else:\n",
    "        return \"{} started with 0 concentrators; the growth rate is undefined.\".format(name)\n",
    "\n",
    "for c in clean_concentration_data:\n",
    "    print summary_for_concentration(c)"
   ]
  },
  {
   "cell_type": "code",
   "execution_count": null,
   "metadata": {},
   "outputs": [],
   "source": [
    "# Things to do next:\n",
    "# - Print the 5 largest concentrations.\n",
    "\n",
    "def sort_size(data):\n",
    "    final = []\n",
    "    for concentration in data:\n",
    "        current_size = concentration[\"2014-15\"]\n",
    "        name = concentration[\"concentration\"]\n",
    "        final.append((current_size, name))\n",
    "    final.sort(reverse=True)\n",
    "    return final\n",
    "\n",
    "largest_size_concentrations = sort_size(clean_concentration_data)[:5]\n",
    "\n",
    "largest_size_concentrations"
   ]
  },
  {
   "cell_type": "code",
   "execution_count": null,
   "metadata": {},
   "outputs": [],
   "source": [
    "# - Print the 5 fastest-growing concentrations.\n",
    "\n",
    "def sort_growth(data):\n",
    "    final = []\n",
    "    for concentration in data:\n",
    "        name = concentration[\"concentration\"]\n",
    "        rate = get_growth(concentration)\n",
    "        if rate:\n",
    "            final.append((rate, name))\n",
    "    final.sort(reverse=True)\n",
    "    return final\n",
    "\n",
    "largest_growing_concentrations = sort_growth(clean_concentration_data)[:5]\n",
    "\n",
    "largest_growing_concentrations"
   ]
  },
  {
   "cell_type": "code",
   "execution_count": null,
   "metadata": {},
   "outputs": [],
   "source": [
    "# - Add the growth rate to each concentration's dict.\n",
    "\n",
    "for concentration in clean_concentration_data:\n",
    "    concentration[\"rate\"] = get_growth(concentration)\n",
    "    \n",
    "clean_concentration_data"
   ]
  },
  {
   "cell_type": "code",
   "execution_count": 55,
   "metadata": {},
   "outputs": [
    {
     "ename": "ValueError",
     "evalue": "dict contains fields not in fieldnames: '2010-11'",
     "output_type": "error",
     "traceback": [
      "\u001b[0;31m---------------------------------------------------------------------------\u001b[0m",
      "\u001b[0;31mValueError\u001b[0m                                Traceback (most recent call last)",
      "\u001b[0;32m<ipython-input-55-af6a5c2ed4be>\u001b[0m in \u001b[0;36m<module>\u001b[0;34m()\u001b[0m\n\u001b[1;32m      5\u001b[0m     \u001b[0mwriter\u001b[0m \u001b[0;34m=\u001b[0m \u001b[0mcsv\u001b[0m\u001b[0;34m.\u001b[0m\u001b[0mDictWriter\u001b[0m\u001b[0;34m(\u001b[0m\u001b[0mcsvfile\u001b[0m\u001b[0;34m,\u001b[0m \u001b[0mfieldnames\u001b[0m\u001b[0;34m=\u001b[0m\u001b[0mfieldnames\u001b[0m\u001b[0;34m)\u001b[0m\u001b[0;34m\u001b[0m\u001b[0m\n\u001b[1;32m      6\u001b[0m     \u001b[0mwriter\u001b[0m\u001b[0;34m.\u001b[0m\u001b[0mwriteheader\u001b[0m\u001b[0;34m(\u001b[0m\u001b[0;34m)\u001b[0m\u001b[0;34m\u001b[0m\u001b[0m\n\u001b[0;32m----> 7\u001b[0;31m     \u001b[0mwriter\u001b[0m\u001b[0;34m.\u001b[0m\u001b[0mwriterows\u001b[0m\u001b[0;34m(\u001b[0m\u001b[0mclean_concentration_data\u001b[0m\u001b[0;34m)\u001b[0m\u001b[0;34m\u001b[0m\u001b[0m\n\u001b[0m",
      "\u001b[0;32m/anaconda/lib/python2.7/csv.pyc\u001b[0m in \u001b[0;36mwriterows\u001b[0;34m(self, rowdicts)\u001b[0m\n\u001b[1;32m    155\u001b[0m         \u001b[0mrows\u001b[0m \u001b[0;34m=\u001b[0m \u001b[0;34m[\u001b[0m\u001b[0;34m]\u001b[0m\u001b[0;34m\u001b[0m\u001b[0m\n\u001b[1;32m    156\u001b[0m         \u001b[0;32mfor\u001b[0m \u001b[0mrowdict\u001b[0m \u001b[0;32min\u001b[0m \u001b[0mrowdicts\u001b[0m\u001b[0;34m:\u001b[0m\u001b[0;34m\u001b[0m\u001b[0m\n\u001b[0;32m--> 157\u001b[0;31m             \u001b[0mrows\u001b[0m\u001b[0;34m.\u001b[0m\u001b[0mappend\u001b[0m\u001b[0;34m(\u001b[0m\u001b[0mself\u001b[0m\u001b[0;34m.\u001b[0m\u001b[0m_dict_to_list\u001b[0m\u001b[0;34m(\u001b[0m\u001b[0mrowdict\u001b[0m\u001b[0;34m)\u001b[0m\u001b[0;34m)\u001b[0m\u001b[0;34m\u001b[0m\u001b[0m\n\u001b[0m\u001b[1;32m    158\u001b[0m         \u001b[0;32mreturn\u001b[0m \u001b[0mself\u001b[0m\u001b[0;34m.\u001b[0m\u001b[0mwriter\u001b[0m\u001b[0;34m.\u001b[0m\u001b[0mwriterows\u001b[0m\u001b[0;34m(\u001b[0m\u001b[0mrows\u001b[0m\u001b[0;34m)\u001b[0m\u001b[0;34m\u001b[0m\u001b[0m\n\u001b[1;32m    159\u001b[0m \u001b[0;34m\u001b[0m\u001b[0m\n",
      "\u001b[0;32m/anaconda/lib/python2.7/csv.pyc\u001b[0m in \u001b[0;36m_dict_to_list\u001b[0;34m(self, rowdict)\u001b[0m\n\u001b[1;32m    146\u001b[0m             \u001b[0;32mif\u001b[0m \u001b[0mwrong_fields\u001b[0m\u001b[0;34m:\u001b[0m\u001b[0;34m\u001b[0m\u001b[0m\n\u001b[1;32m    147\u001b[0m                 raise ValueError(\"dict contains fields not in fieldnames: \"\n\u001b[0;32m--> 148\u001b[0;31m                                  + \", \".join([repr(x) for x in wrong_fields]))\n\u001b[0m\u001b[1;32m    149\u001b[0m         \u001b[0;32mreturn\u001b[0m \u001b[0;34m[\u001b[0m\u001b[0mrowdict\u001b[0m\u001b[0;34m.\u001b[0m\u001b[0mget\u001b[0m\u001b[0;34m(\u001b[0m\u001b[0mkey\u001b[0m\u001b[0;34m,\u001b[0m \u001b[0mself\u001b[0m\u001b[0;34m.\u001b[0m\u001b[0mrestval\u001b[0m\u001b[0;34m)\u001b[0m \u001b[0;32mfor\u001b[0m \u001b[0mkey\u001b[0m \u001b[0;32min\u001b[0m \u001b[0mself\u001b[0m\u001b[0;34m.\u001b[0m\u001b[0mfieldnames\u001b[0m\u001b[0;34m]\u001b[0m\u001b[0;34m\u001b[0m\u001b[0m\n\u001b[1;32m    150\u001b[0m \u001b[0;34m\u001b[0m\u001b[0m\n",
      "\u001b[0;31mValueError\u001b[0m: dict contains fields not in fieldnames: '2010-11'"
     ]
    }
   ],
   "source": [
    "# - Write a new CSV that includes the growth rate for each concentration.\n",
    "\n",
    "with open('concentration-growth.csv', 'w') as csvfile:\n",
    "    fieldnames = ['concentration', '2011-12', '2012-13','2013-14','2014-15', 'rate']\n",
    "    writer = csv.DictWriter(csvfile, fieldnames=fieldnames)\n",
    "    writer.writeheader()\n",
    "    writer.writerows(clean_concentration_data)"
   ]
  },
  {
   "cell_type": "code",
   "execution_count": null,
   "metadata": {},
   "outputs": [],
   "source": [
    "# If you're feeling ambitious:\n",
    "# - Use matplotlib to make a graph.\n",
    "\n",
    "import matplotlib.pyplot as plt\n",
    "\n",
    "def graph_concentration(concentration):\n",
    "    lst = []\n",
    "    for key in concentration:\n",
    "        if key != \"concentration\":\n",
    "            lst.append((key, concentration[key]))\n",
    "    lst.sort()\n",
    "    labels = [x[0] for x in lst]\n",
    "    numbers = [x[1] for x in lst]\n",
    "    plt.plot(range(5), numbers, 'r')\n",
    "    plt.title(concentration[\"concentration\"])\n",
    "    plt.axis([0, 4, 0, max(numbers) + 10])\n",
    "    plt.xticks(range(5), labels)\n",
    "    plt.show()\n",
    "\n",
    "for c in clean_concentration_data:\n",
    "    graph_concentration(c)\n"
   ]
  },
  {
   "cell_type": "code",
   "execution_count": null,
   "metadata": {
    "collapsed": true
   },
   "outputs": [],
   "source": []
  }
 ],
 "metadata": {
  "kernelspec": {
   "display_name": "Python 2",
   "language": "python",
   "name": "python2"
  },
  "language_info": {
   "codemirror_mode": {
    "name": "ipython",
    "version": 2
   },
   "file_extension": ".py",
   "mimetype": "text/x-python",
   "name": "python",
   "nbconvert_exporter": "python",
   "pygments_lexer": "ipython2",
   "version": "2.7.13"
  }
 },
 "nbformat": 4,
 "nbformat_minor": 2
}
